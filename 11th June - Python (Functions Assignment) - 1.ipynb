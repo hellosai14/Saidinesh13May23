{
 "cells": [
  {
   "attachments": {},
   "cell_type": "markdown",
   "metadata": {},
   "source": [
    "Q1. What is a lambda function in Python, and how does it differ from a regular function?"
   ]
  },
  {
   "attachments": {},
   "cell_type": "markdown",
   "metadata": {},
   "source": [
    "lambda functions are anonymous functions that can be defined without a name.\n",
    "Lambda functions are defined using the lambda keyword, whereas regular functions are defined using the def keyword.\n",
    "Lambda functions are limited to a single expression, while regular functions can have multiple statements and a more complex structure."
   ]
  },
  {
   "cell_type": "code",
   "execution_count": 1,
   "metadata": {},
   "outputs": [
    {
     "name": "stdout",
     "output_type": "stream",
     "text": [
      "15\n"
     ]
    }
   ],
   "source": [
    "add= lambda x,y: x+y #lambda arguments: expression\n",
    "print(add(5,10)) #Lambda functions are typically used when you need a small, one-line function without the need for a formal function definition."
   ]
  },
  {
   "attachments": {},
   "cell_type": "markdown",
   "metadata": {},
   "source": [
    "Q2. Can a lambda function in Python have multiple arguments? If yes, how can you define and use\n",
    "them?"
   ]
  },
  {
   "cell_type": "code",
   "execution_count": 2,
   "metadata": {},
   "outputs": [
    {
     "name": "stdout",
     "output_type": "stream",
     "text": [
      "7\n"
     ]
    }
   ],
   "source": [
    "add= lambda x,y,z: x+(y*z) # here x,y,z are arguments # they are defined using 'lambda' keyword.\n",
    "print(add(1,2,3)) #Lambda functions are typically used when you need a small, one-line function without the need for a formal function definition."
   ]
  },
  {
   "attachments": {},
   "cell_type": "markdown",
   "metadata": {},
   "source": [
    "Q3.How are lambda functions typically used in Python? Provide an example use case."
   ]
  },
  {
   "cell_type": "code",
   "execution_count": 4,
   "metadata": {},
   "outputs": [
    {
     "name": "stdout",
     "output_type": "stream",
     "text": [
      "[1, 4, 9, 16, 25]\n"
     ]
    }
   ],
   "source": [
    "#lambda funtions are used for  Function arguments, Sorting, data transformation, callbacks, one-time-use-function etc.\n",
    "# example\n",
    "\n",
    "numbers = [1, 2, 3, 4, 5]\n",
    "squared_numbers = map(lambda x: x ** 2, numbers) # function is defined in a single line\n",
    "\n",
    "print(list(squared_numbers))\n"
   ]
  },
  {
   "attachments": {},
   "cell_type": "markdown",
   "metadata": {},
   "source": [
    "Q4.What are the advantages and limitations of lambda functions compared to regular functions in\n",
    "Python?"
   ]
  },
  {
   "attachments": {},
   "cell_type": "markdown",
   "metadata": {},
   "source": [
    "Advantages and limitations of lambda functions compared to regular functions in Python:\n",
    "\n",
    "Advantages of lambda functions:\n",
    "\n",
    "    They are short and concise. Lambda functions can be defined in a single line of code, which makes them more concise and easier to read than regular functions.\n",
    "    They are anonymous. Lambda functions do not have a name, which makes them more flexible and can be passed around as arguments to other functions.\n",
    "    They are efficient. Lambda functions are typically more efficient than regular functions, because they do not have to go through the same overhead of creating and storing a new function object.\n",
    "\n",
    "Limitations of lambda functions:\n",
    "\n",
    "    Single-expression: Lambda functions can only contain a single expression. This means that they cannot be used to define functions with multiple statements or blocks of code.\n",
    "    No name: Lambda functions do not have a name. This can make it difficult to track their use in your code, and can also make it more difficult to debug your code.\n",
    "    Not as versatile: Lambda functions are not as versatile as regular functions. For example, they cannot be used to define classes or methods.\n",
    "\n",
    "\n"
   ]
  },
  {
   "attachments": {},
   "cell_type": "markdown",
   "metadata": {},
   "source": [
    "Q5.Are lambda functions in Python able to access variables defined outside of their own scope?\n",
    "Explain with an example."
   ]
  },
  {
   "cell_type": "code",
   "execution_count": 19,
   "metadata": {},
   "outputs": [
    {
     "name": "stdout",
     "output_type": "stream",
     "text": [
      "20\n"
     ]
    }
   ],
   "source": [
    "# Lambda functions in Python are able to access variables defined outside of their own scope. \n",
    "# They have access to variables from the surrounding scope, including global variables and variables from enclosing functions.\n",
    "\n",
    "#example\n",
    "\n",
    "def my_function(y):\n",
    "    x=4\n",
    "    mul= lambda y: x*y ## Defined a lambda function that uses the variable x from the outer scope\n",
    "    return mul\n",
    "my_lambda= my_function(y)\n",
    "result= my_lambda(5)\n",
    "print(result)\n"
   ]
  },
  {
   "attachments": {},
   "cell_type": "markdown",
   "metadata": {},
   "source": [
    "Q6.Write a lambda function to calculate the square of a given number."
   ]
  },
  {
   "cell_type": "code",
   "execution_count": 5,
   "metadata": {},
   "outputs": [
    {
     "name": "stdout",
     "output_type": "stream",
     "text": [
      "36\n"
     ]
    }
   ],
   "source": [
    "# Define a lambda function to calculate the square\n",
    "squared_value = lambda x: x ** 2\n",
    "result = squared_value(6)\n",
    "print(result)"
   ]
  },
  {
   "attachments": {},
   "cell_type": "markdown",
   "metadata": {},
   "source": [
    "Q7.Create a lambda function to find the maximum value in a list of integers.\n"
   ]
  },
  {
   "cell_type": "code",
   "execution_count": 8,
   "metadata": {},
   "outputs": [
    {
     "name": "stdout",
     "output_type": "stream",
     "text": [
      "25\n"
     ]
    }
   ],
   "source": [
    "my_list=[1,25,3,4,5,15]\n",
    "max_value= lambda x: max(x)\n",
    "result= max_value(my_list)\n",
    "print(result)\n"
   ]
  },
  {
   "attachments": {},
   "cell_type": "markdown",
   "metadata": {},
   "source": [
    "Q8.Implement a lambda function to filter out all the even numbers from a list of integers."
   ]
  },
  {
   "cell_type": "code",
   "execution_count": 29,
   "metadata": {},
   "outputs": [
    {
     "name": "stdout",
     "output_type": "stream",
     "text": [
      "[2, 4, 6, 8, 10]\n"
     ]
    }
   ],
   "source": [
    "my_list = [1, 2, 3, 4, 5, 6, 7, 8, 9, 10]\n",
    "even_no = lambda x: list(filter(lambda i: i % 2 == 0,x))\n",
    "filtered_list = even_no(my_list)\n",
    "print(filtered_list)\n",
    "\n"
   ]
  },
  {
   "attachments": {},
   "cell_type": "markdown",
   "metadata": {},
   "source": [
    "Q9.Write a lambda function to sort a list of strings in ascending order based on the length of each\n",
    "string"
   ]
  },
  {
   "cell_type": "code",
   "execution_count": 21,
   "metadata": {},
   "outputs": [
    {
     "name": "stdout",
     "output_type": "stream",
     "text": [
      "['kiwi', 'apple', 'lemon', 'orange', 'blueberry']\n"
     ]
    }
   ],
   "source": [
    "my_list= ['apple', 'orange', 'lemon', 'kiwi', 'blueberry']\n",
    "\n",
    "sort_by_length = lambda x: sorted(x, key=lambda x: len(x))\n",
    "\n",
    "sorted_list = sort_by_length(my_list)\n",
    "\n",
    "print(sorted_list)\n"
   ]
  },
  {
   "attachments": {},
   "cell_type": "markdown",
   "metadata": {},
   "source": [
    "Q10.Create a lambda function that takes two lists as input and returns a new list containing the\n",
    "common elements between the two lists."
   ]
  },
  {
   "cell_type": "code",
   "execution_count": 32,
   "metadata": {},
   "outputs": [
    {
     "name": "stdout",
     "output_type": "stream",
     "text": [
      "[3, 5, 6]\n"
     ]
    }
   ],
   "source": [
    "list1=[1,2,3,4,5,6]\n",
    "list2=[3,5,6,7,8]\n",
    "\n",
    "common_list= lambda x,y: list(filter(lambda i: i in x,y))\n",
    "result=common_list(list1, list2)\n",
    "print(result)\n"
   ]
  },
  {
   "attachments": {},
   "cell_type": "markdown",
   "metadata": {},
   "source": [
    " Q11.Write a recursive function to calculate the factorial of a given positive integer"
   ]
  },
  {
   "cell_type": "code",
   "execution_count": 71,
   "metadata": {},
   "outputs": [
    {
     "data": {
      "text/plain": [
       "120"
      ]
     },
     "execution_count": 71,
     "metadata": {},
     "output_type": "execute_result"
    }
   ],
   "source": [
    "def fact(n):\n",
    "    if n == 0 or n == 1:\n",
    "        return 1    \n",
    "    else:\n",
    "        return n * fact(n - 1)\n",
    "factorial(5)\n"
   ]
  },
  {
   "attachments": {},
   "cell_type": "markdown",
   "metadata": {},
   "source": [
    "Q12. Implement a recursive function to compute the nth Fibonacci number"
   ]
  },
  {
   "cell_type": "code",
   "execution_count": 11,
   "metadata": {},
   "outputs": [
    {
     "data": {
      "text/plain": [
       "55"
      ]
     },
     "execution_count": 11,
     "metadata": {},
     "output_type": "execute_result"
    }
   ],
   "source": [
    "def fibonacci(n):   \n",
    "    if n == 0:\n",
    "        return 0\n",
    "    elif n == 1:\n",
    "        return 1\n",
    "    else:\n",
    "        return fibonacci(n - 1) + fibonacci(n - 2)\n",
    "\n",
    "fibonacci(10)"
   ]
  },
  {
   "attachments": {},
   "cell_type": "markdown",
   "metadata": {},
   "source": [
    "Q13. Create a recursive function to find the sum of all the elements in a given list."
   ]
  },
  {
   "cell_type": "code",
   "execution_count": 63,
   "metadata": {},
   "outputs": [
    {
     "name": "stdout",
     "output_type": "stream",
     "text": [
      "15\n"
     ]
    }
   ],
   "source": [
    "def sum_of_list(lst):\n",
    "       if not lst:\n",
    "            return 0\n",
    "       else:\n",
    "            return lst[0] + sum_of_list(lst[1:])\n",
    "my_list = [1, 2, 3, 4, 5]\n",
    "result = sum_of_list(my_list)\n",
    "print(result)\n",
    "\n",
    "\n",
    "\n"
   ]
  },
  {
   "attachments": {},
   "cell_type": "markdown",
   "metadata": {},
   "source": [
    "Q14.Write a recursive function to determine whether a given string is a palindrome"
   ]
  },
  {
   "cell_type": "code",
   "execution_count": 12,
   "metadata": {},
   "outputs": [
    {
     "name": "stdout",
     "output_type": "stream",
     "text": [
      "False\n"
     ]
    }
   ],
   "source": [
    "def is_palindrome(string):\n",
    "    # Base case: an empty string or a string with a single character is a palindrome\n",
    "    if len(string) <= 1:\n",
    "        return True\n",
    "    # Recursive case: compare the first and last characters,\n",
    "    # and recursively check if the substring between them is a palindrome\n",
    "    else:\n",
    "        return string[0] == string[-1] and is_palindrome(string[1:-1])\n",
    "my_string = \"jug\"\n",
    "result = is_palindrome(my_string)\n",
    "print(result)\n"
   ]
  },
  {
   "attachments": {},
   "cell_type": "markdown",
   "metadata": {},
   "source": [
    "Q15.Implement a recursive function to find the greatest common divisor (GCD) of two positive integers."
   ]
  },
  {
   "cell_type": "code",
   "execution_count": 13,
   "metadata": {},
   "outputs": [
    {
     "name": "stdout",
     "output_type": "stream",
     "text": [
      "3\n"
     ]
    }
   ],
   "source": [
    "def gcd(a, b):\n",
    "    # Base case: if one of the numbers is 0, the other number is the GCD\n",
    "    if b == 0:\n",
    "        return a\n",
    "    # Recursive case: recursively call gcd with b and the remainder of a divided by b\n",
    "    else:\n",
    "        return gcd(b, a % b)\n",
    "number1 = 12\n",
    "number2 = 15\n",
    "result = gcd(number1, number2)\n",
    "print(result)\n",
    "\n"
   ]
  },
  {
   "cell_type": "code",
   "execution_count": null,
   "metadata": {},
   "outputs": [],
   "source": []
  }
 ],
 "metadata": {
  "kernelspec": {
   "display_name": "Python 3 (ipykernel)",
   "language": "python",
   "name": "python3"
  },
  "language_info": {
   "codemirror_mode": {
    "name": "ipython",
    "version": 3
   },
   "file_extension": ".py",
   "mimetype": "text/x-python",
   "name": "python",
   "nbconvert_exporter": "python",
   "pygments_lexer": "ipython3",
   "version": "3.11.4"
  }
 },
 "nbformat": 4,
 "nbformat_minor": 2
}
