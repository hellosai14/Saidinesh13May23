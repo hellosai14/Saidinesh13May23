{
 "cells": [
  {
   "cell_type": "markdown",
   "id": "ae68ae6e",
   "metadata": {},
   "source": [
    "# 1. What exactly is []?"
   ]
  },
  {
   "cell_type": "code",
   "execution_count": 8,
   "id": "f647606a",
   "metadata": {},
   "outputs": [
    {
     "name": "stdout",
     "output_type": "stream",
     "text": [
      "[1, 'hello', [...]]\n"
     ]
    }
   ],
   "source": [
    "'''In Python, [] is a special syntax that represents an empty list. \n",
    "A list is a data structure that can store a collection of objects. \n",
    "In Python, objects can be any type of data, including numbers, strings, other lists, and even functions.'''\n",
    "\n",
    "\n",
    "'''The empty list value, which is a list value that contains no items. This is similar to how '' is the empty string value.'''\n",
    "#example\n",
    "my_list = []\n",
    "my_list.append(1)\n",
    "my_list.append(\"hello\")\n",
    "my_list.append(my_list)\n",
    "length = len(my_list)\n",
    "print(my_list)\n"
   ]
  },
  {
   "cell_type": "markdown",
   "id": "3c68df7e",
   "metadata": {},
   "source": [
    "# 2. In a list of values stored in a variable called spam, how would you assign the value 'hello' as the third value? (Assume [2, 4, 6, 8, 10] are in spam.)"
   ]
  },
  {
   "cell_type": "code",
   "execution_count": 11,
   "id": "1ae0aeee",
   "metadata": {},
   "outputs": [
    {
     "name": "stdout",
     "output_type": "stream",
     "text": [
      "[2, 4, 'hello', 8, 10]\n"
     ]
    }
   ],
   "source": [
    "#Notice that the third value in a list is at index 2 because the first index is 0.)\n",
    "\n",
    "spam=[2,4,6,8,10]\n",
    "spam[2]='hello'\n",
    "print(spam)"
   ]
  },
  {
   "cell_type": "markdown",
   "id": "94ba39a5",
   "metadata": {},
   "source": [
    "# 3. What is the value of spam[int(int('3' * 2) / 11)]?"
   ]
  },
  {
   "cell_type": "code",
   "execution_count": 14,
   "id": "1a55db35",
   "metadata": {},
   "outputs": [
    {
     "name": "stdout",
     "output_type": "stream",
     "text": [
      "[3]\n"
     ]
    }
   ],
   "source": [
    "#'3' * 2 is the string '33', which is passed to int() before being divided by 11.\n",
    "spam=[int(int('3' * 2) / 11)]\n",
    "print(spam)"
   ]
  },
  {
   "cell_type": "markdown",
   "id": "7f2cb464",
   "metadata": {},
   "source": [
    "# 4. What is the value of spam[-1]?"
   ]
  },
  {
   "cell_type": "code",
   "execution_count": 19,
   "id": "4a77756c",
   "metadata": {},
   "outputs": [
    {
     "name": "stdout",
     "output_type": "stream",
     "text": [
      "10\n"
     ]
    }
   ],
   "source": [
    "# Negative indexes count from the end.\n",
    "spam=[2, 4, 6, 8, 10]\n",
    "print(spam[-1])\n"
   ]
  },
  {
   "cell_type": "markdown",
   "id": "06acb731",
   "metadata": {},
   "source": [
    "# 5. What is the value of spam[:2]?"
   ]
  },
  {
   "cell_type": "code",
   "execution_count": 20,
   "id": "08cf6291",
   "metadata": {},
   "outputs": [
    {
     "name": "stdout",
     "output_type": "stream",
     "text": [
      "[2, 4]\n"
     ]
    }
   ],
   "source": [
    "'''It is used to extract a sublist from a list starting from the beginning (index 0) up to, \n",
    "but not including, the element at index 2.'''\n",
    "print(spam[:2])"
   ]
  },
  {
   "cell_type": "markdown",
   "id": "e1ab5682",
   "metadata": {},
   "source": [
    "# 6. What is the value of bacon.index('cat')?"
   ]
  },
  {
   "cell_type": "code",
   "execution_count": 27,
   "id": "1c0737bb",
   "metadata": {},
   "outputs": [
    {
     "name": "stdout",
     "output_type": "stream",
     "text": [
      "1\n"
     ]
    }
   ],
   "source": [
    "bacon=[3.14, 'cat', 11, 'cat', True] #[0,1,2,3,4]\n",
    "print(bacon.index('cat'))\n"
   ]
  },
  {
   "cell_type": "markdown",
   "id": "e6aa4597",
   "metadata": {},
   "source": [
    "# 7. How does bacon.append(99) change the look of the list value in bacon?"
   ]
  },
  {
   "cell_type": "code",
   "execution_count": 30,
   "id": "b58d6fa0",
   "metadata": {},
   "outputs": [
    {
     "name": "stdout",
     "output_type": "stream",
     "text": [
      "[3.14, 'cat', 11, 'cat', True, 99]\n"
     ]
    }
   ],
   "source": [
    "bacon=[3.14, 'cat', 11, 'cat', True]\n",
    "bacon.append(99)\n",
    "print(bacon)"
   ]
  },
  {
   "cell_type": "markdown",
   "id": "1a5fec16",
   "metadata": {},
   "source": [
    "# 8. How does bacon.remove('cat') change the look of the list in bacon?"
   ]
  },
  {
   "cell_type": "code",
   "execution_count": 31,
   "id": "5d008435",
   "metadata": {},
   "outputs": [
    {
     "name": "stdout",
     "output_type": "stream",
     "text": [
      "[3.14, 11, 'cat', True]\n"
     ]
    }
   ],
   "source": [
    "bacon=[3.14, 'cat', 11, 'cat', True]\n",
    "bacon.remove('cat')\n",
    "print(bacon)"
   ]
  },
  {
   "cell_type": "markdown",
   "id": "1e8a2a0c",
   "metadata": {},
   "source": [
    "# 9. What are the list concatenation and list replication operators?"
   ]
  },
  {
   "cell_type": "code",
   "execution_count": 33,
   "id": "725cf85d",
   "metadata": {},
   "outputs": [
    {
     "name": "stdout",
     "output_type": "stream",
     "text": [
      "[1, 2, 3, 4, 5, 6]\n",
      "[1, 2, 3, 1, 2, 3, 1, 2, 3]\n"
     ]
    }
   ],
   "source": [
    "#The operator for list concatenation is +, while the operator for replication is *. (This is the same as for strings.)\n",
    "#example\n",
    "list1 = [1, 2, 3]\n",
    "list2 = [4, 5, 6]\n",
    "result = list1 + list2\n",
    "print(result)  \n",
    "\n",
    "original_list = [1, 2, 3]\n",
    "replicated_list = original_list * 3\n",
    "print(replicated_list) \n",
    "\n"
   ]
  },
  {
   "cell_type": "markdown",
   "id": "d1c44b54",
   "metadata": {},
   "source": [
    "# 10. What is difference between the list methods append() and insert()?"
   ]
  },
  {
   "cell_type": "code",
   "execution_count": 34,
   "id": "896b89ab",
   "metadata": {},
   "outputs": [
    {
     "name": "stdout",
     "output_type": "stream",
     "text": [
      "[1, 2, 3, 4]\n",
      "[1, 5, 2, 3]\n"
     ]
    }
   ],
   "source": [
    "# While append() will add values only to the end of a list, insert() can add them anywhere in the list.\n",
    "#example\n",
    "my_list = [1, 2, 3]\n",
    "my_list.append(4)\n",
    "print(my_list)  \n",
    "\n",
    "my_list = [1, 2, 3]\n",
    "my_list.insert(1, 5)\n",
    "print(my_list)  \n",
    "\n"
   ]
  },
  {
   "cell_type": "markdown",
   "id": "46957f6b",
   "metadata": {},
   "source": [
    "# 11. What are the two methods for removing items from a list?"
   ]
  },
  {
   "cell_type": "code",
   "execution_count": 36,
   "id": "eceb61ca",
   "metadata": {},
   "outputs": [
    {
     "name": "stdout",
     "output_type": "stream",
     "text": [
      "[1, 2, 4, 5]\n",
      "[1, 4, 5]\n",
      "[1, 2, 4, 5]\n"
     ]
    }
   ],
   "source": [
    "# The del statement and the remove() list method are two ways to remove values from a list.\n",
    "\n",
    "my_list = [1, 2, 3, 4, 5]\n",
    "del my_list[2]\n",
    "print(my_list)  \n",
    "\n",
    "my_list = [1, 2, 3, 4, 5]\n",
    "del my_list[1:3]\n",
    "print(my_list)\n",
    "\n",
    "my_list = [1, 2, 3, 4, 5]\n",
    "my_list.remove(3)\n",
    "print(my_list)  \n",
    "\n"
   ]
  },
  {
   "cell_type": "markdown",
   "id": "e4b1772a",
   "metadata": {},
   "source": [
    "# 12. Describe how list values and string values are identical."
   ]
  },
  {
   "cell_type": "code",
   "execution_count": null,
   "id": "c1296d0e",
   "metadata": {},
   "outputs": [],
   "source": [
    "'''Both lists and strings can be passed to len(), have indexes and slices, be used in for loops, be concatenated or replicated, \n",
    "and be used with the in and not in operators.'''"
   ]
  },
  {
   "cell_type": "markdown",
   "id": "895b05c0",
   "metadata": {},
   "source": [
    "# 13. What's the difference between tuples and lists?"
   ]
  },
  {
   "cell_type": "code",
   "execution_count": null,
   "id": "d398d024",
   "metadata": {},
   "outputs": [],
   "source": [
    "'''Lists are mutable; \n",
    "they can have values added, removed, or changed. \n",
    "Tuples are immutable; \n",
    "they cannot be changed at all. \n",
    "Also, tuples are written using parentheses, ( and ), while lists use the square brackets, [ and ].'''\n",
    "#example\n",
    "my_list = [1, 2, 3]\n",
    "my_tuple = (1, 2, 3)\n"
   ]
  },
  {
   "cell_type": "markdown",
   "id": "af67e233",
   "metadata": {},
   "source": [
    "# 14. How do you type a tuple value that only contains the integer 42?"
   ]
  },
  {
   "cell_type": "code",
   "execution_count": null,
   "id": "3c16e779",
   "metadata": {},
   "outputs": [],
   "source": [
    "my_tuple = (42,)\n",
    "\n",
    "#(The comma after the 42 is necessary to differentiate it from just the integer value itself.)"
   ]
  },
  {
   "cell_type": "markdown",
   "id": "5f5575ef",
   "metadata": {},
   "source": [
    "# 15. How do you get a list value's tuple form? How do you get a tuple value's list form?"
   ]
  },
  {
   "cell_type": "code",
   "execution_count": 55,
   "id": "98e3aaf1",
   "metadata": {},
   "outputs": [],
   "source": [
    "# The tuple() and list() functions, respectively\n",
    "# example\n",
    "'''a= (1, 2, 3)\n",
    "b= [4, 5, 6]\n",
    "my_list= list(a)\n",
    "my_tuple= tuple(b) '''\n"
   ]
  },
  {
   "cell_type": "markdown",
   "id": "0c03ff3f",
   "metadata": {},
   "source": [
    "# 16. Variables that \"contain\" list values are not necessarily lists themselves. Instead, what do they contain?"
   ]
  },
  {
   "cell_type": "code",
   "execution_count": 56,
   "id": "d0a1b33b",
   "metadata": {},
   "outputs": [
    {
     "name": "stdout",
     "output_type": "stream",
     "text": [
      "7\n"
     ]
    }
   ],
   "source": [
    "#They contain references to list values.\n",
    "\n",
    "spam = [1, 2, 3]\n",
    "eggs = [4, 5, 6]\n",
    "spam = eggs\n",
    "eggs[0] = 7\n",
    "\n",
    "print(spam[0])\n",
    "\n",
    "'''Even though we changed the value of the list eggs, the value of the list spam also changed. \n",
    "This is because both variables are actually referring to the same list.\n",
    "\n",
    "'''"
   ]
  },
  {
   "cell_type": "markdown",
   "id": "4c917559",
   "metadata": {},
   "source": [
    "# 17. How do you distinguish between copy.copy() and copy.deepcopy()?"
   ]
  },
  {
   "cell_type": "code",
   "execution_count": 61,
   "id": "fc0b8e7f",
   "metadata": {},
   "outputs": [
    {
     "name": "stdout",
     "output_type": "stream",
     "text": [
      "[1, [2, 3], [5, 5], 6]\n",
      "[1, [2, 3], [5, 5], 6]\n"
     ]
    }
   ],
   "source": [
    "'''The copy.copy() function will do a shallow copy of a list, \n",
    "while the copy.deepcopy() function will do a deep copy of a list. \n",
    "That is, only copy.deepcopy() will duplicate any lists inside the list.'''\n",
    "\n",
    "import copy\n",
    "\n",
    "original_list = [1, [2, 3], [4,5], 6]\n",
    "copied_list = copy.copy(original_list)\n",
    "\n",
    "# Modify the nested list in the copied list\n",
    "copied_list[2][0] = 5\n",
    "\n",
    "print(original_list)  \n",
    "print(copied_list)   \n",
    "\n"
   ]
  },
  {
   "cell_type": "code",
   "execution_count": 60,
   "id": "565dc1d5",
   "metadata": {},
   "outputs": [
    {
     "name": "stdout",
     "output_type": "stream",
     "text": [
      "[1, [2, 3], [4, 5], 6]\n",
      "[1, [2, 3], [9, 5], 6]\n"
     ]
    }
   ],
   "source": [
    "import copy\n",
    "\n",
    "original_list = [1, [2, 3], [4, 5], 6]\n",
    "deep_copied_list = copy.deepcopy(original_list)\n",
    "\n",
    "# Modify the nested list in the deep copied list\n",
    "deep_copied_list[2][0] = 9\n",
    "\n",
    "print(original_list)     \n",
    "print(deep_copied_list)    \n"
   ]
  },
  {
   "cell_type": "code",
   "execution_count": null,
   "id": "60309c54",
   "metadata": {},
   "outputs": [],
   "source": []
  }
 ],
 "metadata": {
  "kernelspec": {
   "display_name": "Python 3 (ipykernel)",
   "language": "python",
   "name": "python3"
  },
  "language_info": {
   "codemirror_mode": {
    "name": "ipython",
    "version": 3
   },
   "file_extension": ".py",
   "mimetype": "text/x-python",
   "name": "python",
   "nbconvert_exporter": "python",
   "pygments_lexer": "ipython3",
   "version": "3.10.9"
  }
 },
 "nbformat": 4,
 "nbformat_minor": 5
}
