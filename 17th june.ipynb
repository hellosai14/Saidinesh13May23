{
 "cells": [
  {
   "attachments": {},
   "cell_type": "markdown",
   "metadata": {},
   "source": [
    "1. What is the role of try and exception block?\n",
    "\n"
   ]
  },
  {
   "cell_type": "code",
   "execution_count": 1,
   "metadata": {},
   "outputs": [
    {
     "name": "stdout",
     "output_type": "stream",
     "text": [
      "That was not a valid number.\n"
     ]
    }
   ],
   "source": [
    "#the try block contains the code that is susceptible to exceptions. \n",
    "#The except block contains the code that is executed if an exception occurs in the try block. \n",
    "# The except block can be used to handle specific exceptions or to handle all exceptions.\n",
    "\n",
    "#example\n",
    "\n",
    "try:\n",
    "  x = int(input(\"Enter a number: \")) # input is in float, so it will throw value error as we accept only interger value.\n",
    "except ValueError:\n",
    "  print(\"That was not a valid number.\")\n"
   ]
  },
  {
   "attachments": {},
   "cell_type": "markdown",
   "metadata": {},
   "source": [
    "2. What is the syntax for a basic try-except block?"
   ]
  },
  {
   "cell_type": "code",
   "execution_count": 11,
   "metadata": {},
   "outputs": [
    {
     "name": "stdout",
     "output_type": "stream",
     "text": [
      "cannot be divided by zero\n"
     ]
    }
   ],
   "source": [
    "try:\n",
    "    # Code block where an exception might occur\n",
    "    #Inside the try block, you write the code that you want to monitor for exceptions.\n",
    "    x= 5/0\n",
    "    print(x)\n",
    "except ZeroDivisionError:\n",
    "    #You can specify a specific exception class, such as ValueError, TypeError, or ZeroDivisionError, or you can use the base Exception class to catch any exception.\n",
    "    print('cannot be divided by zero')\n"
   ]
  },
  {
   "attachments": {},
   "cell_type": "markdown",
   "metadata": {},
   "source": [
    "3. What happens if an exception occurs inside a try block and there is no matching\n",
    "except block?"
   ]
  },
  {
   "cell_type": "code",
   "execution_count": null,
   "metadata": {},
   "outputs": [],
   "source": [
    "#If an exception is not caught by any except block, the Python interpreter will display a traceback message that shows the line number, file name, \n",
    "#and the sequence of function calls that led to the unhandled exception. \n",
    "#The traceback message provides information about the exception and can be helpful in identifying and debugging the issue.\n",
    "\n",
    "\n",
    "\n",
    "try:\n",
    "    # Code block where an exception occurs\n",
    "    x = 10 / 0  # This will raise a ZeroDivisionError\n",
    "except ValueError:\n",
    "    # This except block will not match the raised ZeroDivisionError\n",
    "    print(\"This won't be executed\")"
   ]
  },
  {
   "attachments": {},
   "cell_type": "markdown",
   "metadata": {},
   "source": [
    "4. What is the difference between using a bare except block and specifying a specific\n",
    "exception type?"
   ]
  },
  {
   "cell_type": "code",
   "execution_count": 17,
   "metadata": {},
   "outputs": [
    {
     "name": "stdout",
     "output_type": "stream",
     "text": [
      "An exception occurred, but the type is unknown\n",
      "Cannot divide by zero\n"
     ]
    }
   ],
   "source": [
    " # Bare except block # it won't provide any specific information about the type of exception.\n",
    " # it will handle any exception that occurs within the associated try block.\n",
    " # it can make debugging more difficult since it doesn't provide specific information about the type of exception.\n",
    "try:  \n",
    "    a = 150 / 0  # This will raise a ZeroDivisionError \n",
    "    print(\"This line will not be executed\")\n",
    "except:\n",
    "   \n",
    "    print(\"An exception occurred, but the type is unknown\")\n",
    "\n",
    "try:\n",
    "    # Code block where an exception might occur\n",
    "    b = 12 / 0  # This will raise a ZeroDivisionError\n",
    "    print(\"This line will not be executed\")\n",
    "except ZeroDivisionError: #it only catches exceptions of that particular type # better error reporting\n",
    "    # Specific exception type\n",
    "    print(\"Cannot divide by zero\")\n"
   ]
  },
  {
   "attachments": {},
   "cell_type": "markdown",
   "metadata": {},
   "source": [
    "5. Can you have nested try-except blocks in Python? If yes, then give an example."
   ]
  },
  {
   "cell_type": "code",
   "execution_count": 6,
   "metadata": {},
   "outputs": [
    {
     "name": "stdout",
     "output_type": "stream",
     "text": [
      "Outer Error: Invalid input. Please enter a valid integer for the outer value.\n"
     ]
    }
   ],
   "source": [
    "#Nested try-except blocks are useful when you want to handle exceptions in a specific portion of code separately from the outer try-except block.\n",
    "\n",
    "# Here's an example that demonstrates nested try-except blocks:\n",
    "\n",
    "\n",
    "try:  \n",
    "    try:\n",
    "        # Inner try block\n",
    "        inner_value = int(input(\"Enter an inner value: \"))\n",
    "        result = outer_value / inner_value\n",
    "        print(\"Result:\", result)            \n",
    "    except ZeroDivisionError:\n",
    "        print(\"Inner Error: Cannot divide by zero for the inner value.\")\n",
    "        \n",
    "except ValueError:\n",
    "    print(\"Outer Error: Invalid input. Please enter a valid integer for the outer value.\")\n"
   ]
  },
  {
   "attachments": {},
   "cell_type": "markdown",
   "metadata": {},
   "source": [
    "6. Can we use multiple exception blocks, if yes then give an example."
   ]
  },
  {
   "cell_type": "code",
   "execution_count": 26,
   "metadata": {},
   "outputs": [
    {
     "name": "stdout",
     "output_type": "stream",
     "text": [
      "ValueError occurred: Cannot convert 'abc' to an integer\n"
     ]
    }
   ],
   "source": [
    "# Yes, you can use multiple except blocks in a try-except statement to handle different types of exceptions separately\n",
    "\n",
    "try:\n",
    "    x = int(\"abc\")  # This will raise a ValueError\n",
    "    y = 10 / 0  # This will raise a ZeroDivisionError\n",
    "except ValueError:\n",
    "    # Handling ValueError\n",
    "    print(\"ValueError occurred: Cannot convert 'abc' to an integer\")\n",
    "except ZeroDivisionError:\n",
    "    # Handling ZeroDivisionError\n",
    "    print(\"ZeroDivisionError occurred: Cannot divide by zero\")\n",
    "'''When an exception occurs, Python checks each except block sequentially to see if the type of the raised exception matches the specified exception type. \n",
    "If a match is found, the corresponding except block is executed, and the remaining except blocks are skipped.'''"
   ]
  },
  {
   "attachments": {},
   "cell_type": "markdown",
   "metadata": {},
   "source": [
    "7. Write the reason due to which following errors are raised:\n",
    "a. EOFError\n",
    "b. FloatingPointError\n",
    "c. IndexError\n",
    "d. MemoryError\n",
    "e. OverflowError\n",
    "f. TabError\n",
    "g. ValueError"
   ]
  },
  {
   "cell_type": "code",
   "execution_count": null,
   "metadata": {},
   "outputs": [],
   "source": [
    "'''EOFError: \n",
    "EndOfFile error occurs when we have asked the user for input but have not provided any input in the input box.\n",
    "If the user triggers an end-of-file condition (Ctrl+D or Ctrl+Z), an EOFError is raised.'''"
   ]
  },
  {
   "cell_type": "code",
   "execution_count": 27,
   "metadata": {},
   "outputs": [
    {
     "name": "stdout",
     "output_type": "stream",
     "text": [
      "0.30000000000000004\n"
     ]
    }
   ],
   "source": [
    "#FloatingPointError:\n",
    "# occurs when floating point number is too large or too small to represent\n",
    "\n",
    "def add_numbers(x, y):\n",
    "  \"\"\"Adds two floating point numbers together.\"\"\"\n",
    "  return x + y\n",
    "\n",
    "print(add_numbers(0.1, 0.2)) #To avoid this floating point error, you can use the round() function to round the numbers \n"
   ]
  },
  {
   "cell_type": "code",
   "execution_count": 6,
   "metadata": {},
   "outputs": [
    {
     "name": "stdout",
     "output_type": "stream",
     "text": [
      "IndexError: Index is out of range\n"
     ]
    }
   ],
   "source": [
    "#Index Error: Raised when a sequence subscript is out of range.\n",
    "my_list = [1, 2, 3] #[0,1,2,......n index ]\n",
    "try:\n",
    "    print(my_list[3])  # This will raise an IndexError as 3rd is not available.\n",
    "    print(\"This line will not be executed\")\n",
    "except IndexError:\n",
    "    print(\"IndexError: Index is out of range\")\n",
    "\n"
   ]
  },
  {
   "cell_type": "code",
   "execution_count": null,
   "metadata": {},
   "outputs": [],
   "source": [
    "'''Memory Error: \n",
    "Raised when an operation runs out of memory.\n",
    "It typically happens when the program exceeds the memory limits imposed by the system or when there is insufficient memory to complete a requested operation.'''"
   ]
  },
  {
   "cell_type": "code",
   "execution_count": null,
   "metadata": {},
   "outputs": [],
   "source": [
    "# OverflowError: Raised when the result of an arithmetic operation is too large to be expressed by the normal number format."
   ]
  },
  {
   "cell_type": "code",
   "execution_count": null,
   "metadata": {},
   "outputs": [],
   "source": [
    "''' TabError:\n",
    "is a specific type of syntax error that occurs when there is an issue with the indentation in Python code.\n",
    "# It happens when tabs and spaces are not used consistently for indentation, leading to inconsistencies and conflicts.'''"
   ]
  },
  {
   "cell_type": "code",
   "execution_count": 9,
   "metadata": {},
   "outputs": [
    {
     "name": "stdout",
     "output_type": "stream",
     "text": [
      "ValueError: Invalid input for int()\n"
     ]
    }
   ],
   "source": [
    "#Value Error:\n",
    "\n",
    "# it is raised when a function receives an argument of the correct data type but an inappropriate value.\n",
    "\n",
    "try:\n",
    "    age = int(\"twenty\")  # This will raise a ValueError\n",
    "    print(\"This line will not be executed\")\n",
    "except ValueError:\n",
    "    print(\"ValueError: Invalid input for int()\")\n"
   ]
  },
  {
   "attachments": {},
   "cell_type": "markdown",
   "metadata": {},
   "source": [
    "8. Write code for the following given scenario and add try-exception block to it."
   ]
  },
  {
   "cell_type": "code",
   "execution_count": 10,
   "metadata": {},
   "outputs": [
    {
     "name": "stdout",
     "output_type": "stream",
     "text": [
      "Error: Invalid input. Please enter numeric values.\n"
     ]
    }
   ],
   "source": [
    "#a. Program to divide two numbers\n",
    "\n",
    "try:\n",
    "    a= float(input(\"Enter the numerator: \"))\n",
    "    b = float(input(\"Enter the denominator: \"))\n",
    "    result = a/b # input is given as string, it raises value error\n",
    "    print(\"Result:\", result)\n",
    "except ZeroDivisionError:\n",
    "    print(\"Error: Cannot divide by zero.\")\n",
    "except ValueError:\n",
    "    print(\"Error: Invalid input. Please enter numeric values.\")\n"
   ]
  },
  {
   "cell_type": "code",
   "execution_count": 13,
   "metadata": {},
   "outputs": [
    {
     "name": "stdout",
     "output_type": "stream",
     "text": [
      "Error: Invalid input. Please enter a valid integer.\n"
     ]
    }
   ],
   "source": [
    "# b. Program to convert a string to an integer\n",
    "try:\n",
    "    string_num = input(\"Enter a number: \") # input is 'k', it raises value error\n",
    "    integer_num = int(string_num) \n",
    "    print(\"Integer value:\", integer_num)\n",
    "except ValueError:\n",
    "    print(\"Error: Invalid input. Please enter a valid integer.\")"
   ]
  },
  {
   "cell_type": "code",
   "execution_count": 14,
   "metadata": {},
   "outputs": [
    {
     "name": "stdout",
     "output_type": "stream",
     "text": [
      "IndexError: Index is out of range\n"
     ]
    }
   ],
   "source": [
    "# c. Program to access an element in a list\n",
    "\n",
    "my_list = [1, 2, 3] #[0,1,2,......n index ]\n",
    "try:\n",
    "    print(my_list[3])  # This will raise an IndexError as 3rd is not available.\n",
    "    print(\"This line will not be executed\")\n",
    "except IndexError:\n",
    "    print(\"IndexError: Index is out of range\")"
   ]
  },
  {
   "cell_type": "code",
   "execution_count": 1,
   "metadata": {},
   "outputs": [
    {
     "name": "stdout",
     "output_type": "stream",
     "text": [
      "That was not a valid number.\n"
     ]
    }
   ],
   "source": [
    "# d. Program to handle a specific exception\n",
    "# value error exception\n",
    "\n",
    "try:\n",
    "  x = int(input(\"Enter a number: \")) # input is in float, so it will throw value error as we accept only interger value.\n",
    "except ValueError:\n",
    "  print(\"That was not a valid number.\")"
   ]
  },
  {
   "cell_type": "code",
   "execution_count": 2,
   "metadata": {},
   "outputs": [
    {
     "name": "stdout",
     "output_type": "stream",
     "text": [
      "Unknown error occured\n"
     ]
    }
   ],
   "source": [
    "# e.Program to handle any exception\n",
    "\n",
    "try:\n",
    "  x = int(input(\"Enter a number: \")) # input is in float, so it will throw value error as we accept only interger value.\n",
    "except:\n",
    "  print(\"Unknown error occured\")"
   ]
  },
  {
   "cell_type": "code",
   "execution_count": null,
   "metadata": {},
   "outputs": [],
   "source": []
  }
 ],
 "metadata": {
  "kernelspec": {
   "display_name": "base",
   "language": "python",
   "name": "python3"
  },
  "language_info": {
   "codemirror_mode": {
    "name": "ipython",
    "version": 3
   },
   "file_extension": ".py",
   "mimetype": "text/x-python",
   "name": "python",
   "nbconvert_exporter": "python",
   "pygments_lexer": "ipython3",
   "version": "3.10.9"
  },
  "orig_nbformat": 4
 },
 "nbformat": 4,
 "nbformat_minor": 2
}
