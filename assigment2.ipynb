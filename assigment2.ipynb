{
 "cells": [
  {
   "cell_type": "code",
   "execution_count": 2,
   "id": "7a0727a0",
   "metadata": {},
   "outputs": [
    {
     "name": "stdout",
     "output_type": "stream",
     "text": [
      "True\n",
      "False\n"
     ]
    }
   ],
   "source": [
    "# What are the two values of the Boolean data type? How do you write them?\n",
    "#Ans.\n",
    "#booleans represent one of two values: True or False.\n",
    "#When you compare two values, the expression is evaluated and Python returns the Boolean answer\n",
    "#example\n",
    "print (50>9)\n",
    "print (50==155)"
   ]
  },
  {
   "cell_type": "code",
   "execution_count": 5,
   "id": "39e819f5",
   "metadata": {},
   "outputs": [
    {
     "name": "stdout",
     "output_type": "stream",
     "text": [
      "False\n",
      "False\n",
      "True\n"
     ]
    }
   ],
   "source": [
    "# 2. What are the three different types of Boolean operators?\n",
    "\n",
    "#here are three types of python boolean operators:\n",
    "  \n",
    "    #AND operator \n",
    "    #OR operator \n",
    "    #NOT operator\n",
    "#example\n",
    "\n",
    "print((10 > 20) and (20 > 50))\n",
    "\n",
    "print((10 > 20) or (20 > 50)) \n",
    "\n",
    "print (not(1>2))\n"
   ]
  },
  {
   "cell_type": "code",
   "execution_count": 14,
   "id": "3ce82afb",
   "metadata": {},
   "outputs": [
    {
     "name": "stdout",
     "output_type": "stream",
     "text": [
      "False\n",
      "False\n",
      "False\n",
      "True\n"
     ]
    }
   ],
   "source": [
    "# 3. Make a list of each Boolean operator's truth tables \n",
    "#(i.e. every possible combination of Boolean values for the operator and what it evaluate ).\n",
    "\"\"\"\n",
    "Truth table for 'And' operator\n",
    "X        Y       X and Y\n",
    "False   False    False\n",
    "True    False    False\n",
    "False   True     False\n",
    "True    True     True\n",
    "\"\"\"\n",
    "#Example\n",
    "x = 20\n",
    "y = 30\n",
    "z = 50\n",
    "print((x > y) and (y > z))\n",
    "print((x > y) and (y < z))\n",
    "print((x < y) and (y > z))\n",
    "print((x < y) and (y < z))\n",
    "\n"
   ]
  },
  {
   "cell_type": "code",
   "execution_count": 13,
   "id": "902e5c1c",
   "metadata": {},
   "outputs": [
    {
     "name": "stdout",
     "output_type": "stream",
     "text": [
      "True\n",
      "True\n",
      "True\n",
      "False\n"
     ]
    }
   ],
   "source": [
    "#3 continuation...\n",
    "# or operator\n",
    "\"\"\"\n",
    "Truth Table for 'Or' Operation:\n",
    "X        Y      X or Y\n",
    "False   False   False\n",
    "True    False   True\n",
    "False   True    True\n",
    "True    True    True\n",
    "\"\"\"\n",
    "x = 50\n",
    "y = 15\n",
    "z = 11\n",
    "print((x > y) or (y > z))\n",
    "print((x > y) or (y < z))\n",
    "print((x < y) or (y > z))\n",
    "print((x < y) or (y < z))"
   ]
  },
  {
   "cell_type": "code",
   "execution_count": 11,
   "id": "3e7fde97",
   "metadata": {},
   "outputs": [
    {
     "name": "stdout",
     "output_type": "stream",
     "text": [
      "False\n",
      "True\n"
     ]
    }
   ],
   "source": [
    "#3 continuation...\n",
    "\"\"\"\"\n",
    "Truth table for 'Not' Opeariton.\n",
    "X     not X\n",
    "True  False\n",
    "False True\n",
    "\n",
    "\"\"\"\n",
    "\n",
    "x = True\n",
    "y = False\n",
    "print(not x)\n",
    "print(not y)"
   ]
  },
  {
   "cell_type": "code",
   "execution_count": 22,
   "id": "5c39e670",
   "metadata": {},
   "outputs": [
    {
     "name": "stdout",
     "output_type": "stream",
     "text": [
      "False\n",
      "False\n",
      "True\n",
      "False\n",
      "False\n",
      "True\n"
     ]
    }
   ],
   "source": [
    "#4. What are the values of the following expressions?\n",
    "\n",
    "print ((5>4) and (3==5))\n",
    "print (not(5 > 4))\n",
    "print ((5 > 4) or (3 == 5))\n",
    "print (not ((5 > 4) or (3 == 5)))\n",
    "print ((True and True) and (True == False))\n",
    "print ((not False) or (not True))"
   ]
  },
  {
   "cell_type": "code",
   "execution_count": null,
   "id": "d801f4ef",
   "metadata": {},
   "outputs": [],
   "source": [
    "#5. What are the six comparison operators?\n",
    "\n",
    "\n",
    "\"\"\"\n",
    "1. Comparison operators\n",
    "==\tEqual to\n",
    "!=\tNot equal to\n",
    "<\tLess than\n",
    ">\tGreater than\n",
    "<=\tLess than or equal\n",
    ">=\tGreater than or equal\n",
    "\"\"\"\n"
   ]
  },
  {
   "cell_type": "code",
   "execution_count": 26,
   "id": "2bf46c75",
   "metadata": {},
   "outputs": [
    {
     "name": "stdout",
     "output_type": "stream",
     "text": [
      "6\n",
      "True\n"
     ]
    }
   ],
   "source": [
    "#6. How do you tell the difference between the equal to and assignment operators? \n",
    "#Describe a condition and when you would use one.\n",
    "a = 6 # assigment operator(=) Assigns value\n",
    "b = a # Assigns the expression to the left operand\n",
    "print(b)\n",
    "# equal to operator (==) returns output as true/false\n",
    "a=4\n",
    "b=4\n",
    "print (a==b)"
   ]
  },
  {
   "cell_type": "code",
   "execution_count": 38,
   "id": "5652469a",
   "metadata": {},
   "outputs": [
    {
     "name": "stdout",
     "output_type": "stream",
     "text": [
      "eggs\n",
      "bacon\n"
     ]
    }
   ],
   "source": [
    "#7. Identify the three blocks in this code:\n",
    "spam = 10\n",
    "if spam == 10: #1st block\n",
    "    print('eggs')\n",
    "if spam > 5:#2nd block\n",
    "    print('bacon') \n",
    "else: #3rd block\n",
    "    print('ham')\n",
    "    print('spam')\n",
    "    print('spam') \n"
   ]
  },
  {
   "cell_type": "code",
   "execution_count": 11,
   "id": "5dc56cc0",
   "metadata": {},
   "outputs": [
    {
     "name": "stdout",
     "output_type": "stream",
     "text": [
      "enter the number:12\n",
      "Greetings!\n"
     ]
    }
   ],
   "source": [
    "\"\"\"8. Write code that prints Hello if 1 is stored in spam, \n",
    "prints Howdy if 2 is stored in spam, and \n",
    "prints Greetings! if anything else is stored in spam.\n",
    "\"\"\"\n",
    "spam=int(input(\"enter the number:\"))\n",
    "if spam==1:\n",
    "    print (\"Hello\")\n",
    "elif spam==2:\n",
    "    print (\"Howdy\")\n",
    "else:\n",
    "    print (\"Greetings!\")"
   ]
  },
  {
   "cell_type": "code",
   "execution_count": null,
   "id": "aba33796",
   "metadata": {},
   "outputs": [],
   "source": [
    "#9.If your programme is stuck in an endless loop, what keys you’ll press?\n",
    "\n",
    "# CTRL + C"
   ]
  },
  {
   "cell_type": "code",
   "execution_count": 17,
   "id": "2f6519cd",
   "metadata": {},
   "outputs": [
    {
     "name": "stdout",
     "output_type": "stream",
     "text": [
      "number: 0\n",
      "number: 1\n",
      "number: 2\n",
      "number: 3\n",
      "number: 4\n"
     ]
    }
   ],
   "source": [
    "#10. How can you tell the difference between break and continue?\n",
    "\n",
    "#The break statement in Python terminates the loop containing it.\n",
    "\n",
    "for num in range(0,10): \n",
    "    if num == 5:\n",
    "        break\n",
    "    print(f'number: {num}')\n",
    "\n",
    "\n",
    "\n"
   ]
  },
  {
   "cell_type": "code",
   "execution_count": 72,
   "id": "ba9c19f8",
   "metadata": {},
   "outputs": [
    {
     "name": "stdout",
     "output_type": "stream",
     "text": [
      "number: 0\n",
      "number: 1\n",
      "number: 2\n",
      "number: 3\n",
      "number: 4\n",
      "number: 6\n",
      "number: 7\n",
      "number: 8\n",
      "number: 9\n"
     ]
    }
   ],
   "source": [
    "#The continue statement is used to skip the remaining code inside a loop for the current iteration only.\n",
    "\n",
    "#For instance, let’s use continue instead of a break statement in the previous example. \n",
    "#The remaining code in the loop is skipped only for that iteration. That’s why Iteration: 5 is missing from the above output.\n",
    "\n",
    "\n",
    "for num in range(0,10):\n",
    "    if num == 5:\n",
    "        continue\n",
    "    print(f'number: {num}')\n",
    "    \n",
    "#the continue statement works opposite to the break statement. \n",
    "#Instead of terminating the loop, it forces it to execute the next iteration of the loop."
   ]
  },
  {
   "cell_type": "code",
   "execution_count": 18,
   "id": "3cea9d93",
   "metadata": {},
   "outputs": [
    {
     "name": "stdout",
     "output_type": "stream",
     "text": [
      "0 1 2 3 4 5 6 7 8 9 "
     ]
    }
   ],
   "source": [
    "#11. In a for loop, what is the difference between range(10), range(0, 10), and range(0, 10, 1)?\n",
    "\n",
    "for i in range(10):  #Optional. An integer number specifying at which position to start. Default is 0\n",
    "    print (i, end=\" \")\n"
   ]
  },
  {
   "cell_type": "code",
   "execution_count": 93,
   "id": "eb3bf59a",
   "metadata": {},
   "outputs": [
    {
     "name": "stdout",
     "output_type": "stream",
     "text": [
      "1 2 3 4 5 6 7 8 9 "
     ]
    }
   ],
   "source": [
    "for i in range(1,10): # (start, stop) # last value is skipped\n",
    "    print (i, end=\" \")"
   ]
  },
  {
   "cell_type": "code",
   "execution_count": 92,
   "id": "a18157ed",
   "metadata": {},
   "outputs": [
    {
     "name": "stdout",
     "output_type": "stream",
     "text": [
      "0 1 2 3 4 5 6 7 8 9 "
     ]
    }
   ],
   "source": [
    " \n",
    "for i in range(0,10,1): #(start, stop, step) step is an integer number specifying the incrementation. Default is 1\n",
    "    print(i, c)\n",
    "    "
   ]
  },
  {
   "cell_type": "code",
   "execution_count": 96,
   "id": "0ff6fe8f",
   "metadata": {},
   "outputs": [
    {
     "name": "stdout",
     "output_type": "stream",
     "text": [
      "1 2 3 4 5 6 7 8 9 10 "
     ]
    }
   ],
   "source": [
    "#12. Write a short program that prints the numbers 1 to 10 using a for loop. \n",
    "#Then write an equivalent program that prints the numbers 1 to 10 using a while loop.\n",
    "\n",
    "for i in range(1,11):\n",
    "    print (i, end=\" \")"
   ]
  },
  {
   "cell_type": "code",
   "execution_count": 22,
   "id": "60c6fe86",
   "metadata": {},
   "outputs": [
    {
     "name": "stdout",
     "output_type": "stream",
     "text": [
      "1 2 3 4 5 6 7 8 9 10 "
     ]
    }
   ],
   "source": [
    "n = 1\n",
    "while n <= 10:\n",
    "   print(n, end=\" \")\n",
    "   n += 1"
   ]
  },
  {
   "cell_type": "code",
   "execution_count": null,
   "id": "d00c4b66",
   "metadata": {},
   "outputs": [],
   "source": [
    "#13. If you had a function named bacon() inside a module named spam, how would you call it after importing spam?\n",
    "\n",
    "spam.bacon()"
   ]
  }
 ],
 "metadata": {
  "kernelspec": {
   "display_name": "Python 3 (ipykernel)",
   "language": "python",
   "name": "python3"
  },
  "language_info": {
   "codemirror_mode": {
    "name": "ipython",
    "version": 3
   },
   "file_extension": ".py",
   "mimetype": "text/x-python",
   "name": "python",
   "nbconvert_exporter": "python",
   "pygments_lexer": "ipython3",
   "version": "3.10.9"
  }
 },
 "nbformat": 4,
 "nbformat_minor": 5
}
