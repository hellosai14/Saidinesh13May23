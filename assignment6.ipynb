{
 "cells": [
  {
   "cell_type": "markdown",
   "id": "f4fbb1f2",
   "metadata": {},
   "source": [
    "# Q.1. What are keywords in python? Using the keyword library, print all the python keywords."
   ]
  },
  {
   "cell_type": "code",
   "execution_count": 2,
   "id": "bbd94eeb",
   "metadata": {},
   "outputs": [
    {
     "name": "stdout",
     "output_type": "stream",
     "text": [
      "['False', 'None', 'True', 'and', 'as', 'assert', 'async', 'await', 'break', 'class', 'continue', 'def', 'del', 'elif', 'else', 'except', 'finally', 'for', 'from', 'global', 'if', 'import', 'in', 'is', 'lambda', 'nonlocal', 'not', 'or', 'pass', 'raise', 'return', 'try', 'while', 'with', 'yield']\n"
     ]
    }
   ],
   "source": [
    "'''In Python, keywords are reserved words that have predefined meanings and are used to perform specific functions or operations\n",
    "in the language. These keywords cannot be used as variable names or identifiers.'''\n",
    "\n",
    "import keyword\n",
    "print(keyword.kwlist)"
   ]
  },
  {
   "cell_type": "markdown",
   "id": "52d311e4",
   "metadata": {},
   "source": [
    "# Q.2. What are the rules to create variables in python?"
   ]
  },
  {
   "cell_type": "markdown",
   "id": "a8624742",
   "metadata": {},
   "source": [
    "In Python, the rules for creating variables are as follows:\n",
    "\n",
    "1. Variable names must start with a letter (a-z, A-Z) or an underscore (_). They cannot start with a number or any other special character.\n",
    "2. After the first character, variable names can contain letters, numbers, and underscores.\n",
    "3. Variable names are case-sensitive, meaning \"myVariable\" and \"myvariable\" are considered different variables.\n",
    "4. Python keywords, such as \"if,\" \"for,\" \"while,\" etc., cannot be used as variable names, as they have special meanings in the language.\n",
    "5. Variable names should be descriptive and meaningful, helping you understand the purpose of the variable.\n",
    "6. It is recommended to use lowercase letters for variable names, following the Python naming conventions (e.g., \"my_variable\" instead of \"MyVariable\").\n",
    "7. Avoid using special characters, spaces, or punctuation marks in variable names, except for underscores.\n",
    "8. Variable names should not exceed the maximum length allowed by Python, although it is generally recommended to keep them concise and readable.\n",
    "\n"
   ]
  },
  {
   "cell_type": "markdown",
   "id": "469ab023",
   "metadata": {},
   "source": [
    "# Q.3. What are the standards and conventions followed for the nomenclature of variables in python to improve code readability and maintainability?"
   ]
  },
  {
   "cell_type": "markdown",
   "id": "c2d3970e",
   "metadata": {},
   "source": [
    "\n",
    "1.Variable names should be descriptive.\n",
    "\n",
    "2.Variable names should be lowercase. This is the standard convention for Python variable names. However, you can use mixedCase if you need to retain backwards compatibility with older code.\n",
    "\n",
    "3.Variable names should be separated by underscores. This makes variable names more readable and helps to avoid name clashes.\n",
    "\n",
    "4.Variable names should not be too long. Long variable names can be difficult to read and remember. A good rule of thumb is to keep variable names to 10 characters or less.\n",
    "\n",
    "5.Variable names should not start with a number. This is because numbers can be confused with keywords. \n",
    "\n",
    "6.Use meaningful names that describe the purpose of the variable.\n",
    "\n",
    "7.Avoid using abbreviations or acronyms unless they are well-known and understood.\n",
    "\n",
    "8.Use consistent naming conventions throughout your code.\n",
    "\n",
    "9.Avoid using special characters, such as spaces, punctuation marks, or mathematical symbols.\n",
    "\n",
    "10.Be sure to check your code for potential name clashes before you run it.\n",
    "\n",
    "\n",
    "Here are some examples of good variable names:\n",
    "\n",
    "    total_price\n",
    "    order_number\n",
    "    product_name\n",
    "    customer_name\n",
    "    shipping_address"
   ]
  },
  {
   "cell_type": "markdown",
   "id": "b15980c6",
   "metadata": {},
   "source": [
    "# Q.4. What will happen if a keyword is used as a variable name?"
   ]
  },
  {
   "cell_type": "code",
   "execution_count": 3,
   "id": "b013df5a",
   "metadata": {},
   "outputs": [
    {
     "ename": "SyntaxError",
     "evalue": "invalid syntax (2006451974.py, line 6)",
     "output_type": "error",
     "traceback": [
      "\u001b[1;36m  Cell \u001b[1;32mIn[3], line 6\u001b[1;36m\u001b[0m\n\u001b[1;33m    if = 10\u001b[0m\n\u001b[1;37m       ^\u001b[0m\n\u001b[1;31mSyntaxError\u001b[0m\u001b[1;31m:\u001b[0m invalid syntax\n"
     ]
    }
   ],
   "source": [
    "'''When a keyword is used as a variable name, it violates the language's syntax rules because variables are\n",
    "typically user-defined identifiers and cannot have the same name as a keyword. \n",
    "As a result, the ompiler or interpreter will likely generate an error message \n",
    "indicating a syntax error or an illegal use of a keyword.'''\n",
    "#for example\n",
    "if = 10\n",
    "print(if) \n"
   ]
  },
  {
   "cell_type": "markdown",
   "id": "51a1f59b",
   "metadata": {},
   "source": [
    "# Q.5. For what purpose def keyword is used?"
   ]
  },
  {
   "cell_type": "code",
   "execution_count": 6,
   "id": "ed6aab97",
   "metadata": {},
   "outputs": [
    {
     "name": "stdout",
     "output_type": "stream",
     "text": [
      "10\n"
     ]
    }
   ],
   "source": [
    "'''The def keyword in Python is used to define a function. A function is a block of code that can be reused multiple times. \n",
    "It takes in some input, performs some operations, and then returns an output.'''\n",
    "\n",
    "def my_function(a,b):\n",
    "    return a*b\n",
    "print(my_function(2,5))"
   ]
  },
  {
   "cell_type": "markdown",
   "id": "fc740f1c",
   "metadata": {},
   "source": [
    "# Q.6. What is the operation of this special character ‘\\’?"
   ]
  },
  {
   "cell_type": "code",
   "execution_count": 21,
   "id": "29c34c3d",
   "metadata": {},
   "outputs": [
    {
     "name": "stdout",
     "output_type": "stream",
     "text": [
      "Hello\n",
      "Sai\n",
      "I'm Sai\n"
     ]
    }
   ],
   "source": [
    "'''\n",
    "1.Escape Sequences:\n",
    "    \\n represents a newline character.\n",
    "    \\t represents a tab character.\n",
    "    \\\" represents a double quote character within a string.\n",
    "    \\' represents a single quote character within a string.\n",
    "    \\\\ represents a literal backslash character.\n",
    "2.Line Continuation\n",
    "3.Unicode Characters eg.print(\"\\u03B1\")  # Output: α (Greek letter alpha)\n",
    "4.Raw Strings: The backslash can be used to create raw strings by prefixing the string literal with r. \n",
    "In raw strings, backslashes are treated as literal characters and not as escape characters.\n",
    "    \n",
    "    '''\n",
    "#example\n",
    "print(\"Hello\\nSai\")\n",
    "print(\"I\\'m Sai\")\n",
    "\n"
   ]
  },
  {
   "cell_type": "markdown",
   "id": "0263ca76",
   "metadata": {},
   "source": [
    "# Q.7. Give an example of the following conditions:\n",
    "# (i) Homogeneous list\n",
    "# (ii) Heterogeneous set\n",
    "# (iii) Homogeneous tuple"
   ]
  },
  {
   "cell_type": "code",
   "execution_count": null,
   "id": "946a229a",
   "metadata": {},
   "outputs": [],
   "source": [
    "homogeneous_list = [1, 2, 3, 4, 5]\n",
    "heterogeneous_set= {\"hi\", 123, True, 1.5}\n",
    "homogeneous_tuple=(\"a\", \"b\", \"c\", \"d\", \"e\")"
   ]
  },
  {
   "cell_type": "markdown",
   "id": "bde3db94",
   "metadata": {},
   "source": [
    "# Q.8. Explain the mutable and immutable data types with proper explanation & examples."
   ]
  },
  {
   "cell_type": "code",
   "execution_count": 26,
   "id": "9b19bd84",
   "metadata": {},
   "outputs": [
    {
     "name": "stdout",
     "output_type": "stream",
     "text": [
      "[1, 5, 3, 4]\n",
      "{'name': 'Sai', 'age': 50, 'city': 'Mumbai'}\n",
      "{1, 3, 4}\n"
     ]
    }
   ],
   "source": [
    "''' Immutable data types are those whose values cannot be changed after they are created.\n",
    "\n",
    "1.Integers (int): Once an integer value is assigned, it cannot be changed.\n",
    "\n",
    "example:\n",
    "a = 1\n",
    "a= a + 1  # This creates a new integer object with the value 2\n",
    "\n",
    "2.Floats (float): Floating-point numbers are also immutable.\n",
    "\n",
    "example:\n",
    "b = 1.75\n",
    "c = b * 2  # This creates a new float object with the value 3.5\n",
    "\n",
    "3.strings (str): Strings are immutable in Python. You cannot change individual characters in a string\n",
    "\n",
    "example:\n",
    "name = \"Sai\"\n",
    "name = \"Sai\" + \" Dinesh\"  # This creates a new string object with the value \"Sai Dinesh\"\n",
    "\n",
    "Mutable Data Types:\n",
    "\n",
    "Lists (list): Lists are mutable, allowing you to modify their contents by adding, removing, or changing elements.\n",
    "\n",
    "Dictionaries (dict): Dictionaries are mutable and allow you to modify, add, or remove key-value pairs.\n",
    "\n",
    "Sets (set): Sets are mutable and support operations like adding or removing elements. '''\n",
    "\n",
    "my_list = [1, 2, 3]\n",
    "my_list.append(4)     # Modifies the original list by adding 4 at the end\n",
    "my_list[1] = 5  # Modifies the value at index 1 to 5\n",
    "print(my_list)\n",
    "\n",
    "\n",
    "biodata = {\"name\": \"Sai\", \"age\": 25}\n",
    "biodata[\"age\"] = 50    # Modifies the value associated with the \"age\" key\n",
    "biodata[\"city\"] = \"Mumbai\"  # Adds a new key-value pair to the dictionary\n",
    "print(biodata)\n",
    "\n",
    "\n",
    "my_set = {1, 2, 3}\n",
    "my_set.add(4)        # Adds 4 to the set\n",
    "my_set.remove(2)  # Removes the element 2 from the set\n",
    "print(my_set)  "
   ]
  },
  {
   "cell_type": "markdown",
   "id": "b5cfc02f",
   "metadata": {},
   "source": [
    "# Q.9. Write a code to create the given structure using only for loop.\n"
   ]
  },
  {
   "cell_type": "code",
   "execution_count": 2,
   "id": "b9bf4266",
   "metadata": {},
   "outputs": [
    {
     "name": "stdout",
     "output_type": "stream",
     "text": [
      "    *\n",
      "   ***\n",
      "  *****\n",
      " *******\n",
      "*********\n"
     ]
    }
   ],
   "source": [
    "space=4\n",
    "star=1\n",
    "for i in range(5):\n",
    "    print(\" \"*space, end='')\n",
    "    space -=1\n",
    "    print('*'*star)\n",
    "    star +=2\n"
   ]
  },
  {
   "cell_type": "markdown",
   "id": "5d54aa37",
   "metadata": {},
   "source": [
    "# Q.10. Write a code to create the given structure using while loop."
   ]
  },
  {
   "cell_type": "code",
   "execution_count": 1,
   "id": "da4cad7b",
   "metadata": {},
   "outputs": [
    {
     "name": "stdout",
     "output_type": "stream",
     "text": [
      "|||||||||\n",
      " |||||||\n",
      "  |||||\n",
      "   |||\n",
      "    |\n"
     ]
    }
   ],
   "source": [
    "count = 9\n",
    "space=0\n",
    "\n",
    "while count >= 1:\n",
    "    print(\" \"*space, end='')\n",
    "    space +=1\n",
    "    print(\"|\" * count)\n",
    "    count -= 2\n"
   ]
  },
  {
   "cell_type": "code",
   "execution_count": null,
   "id": "5abaddb2",
   "metadata": {},
   "outputs": [],
   "source": []
  }
 ],
 "metadata": {
  "kernelspec": {
   "display_name": "Python 3 (ipykernel)",
   "language": "python",
   "name": "python3"
  },
  "language_info": {
   "codemirror_mode": {
    "name": "ipython",
    "version": 3
   },
   "file_extension": ".py",
   "mimetype": "text/x-python",
   "name": "python",
   "nbconvert_exporter": "python",
   "pygments_lexer": "ipython3",
   "version": "3.10.9"
  }
 },
 "nbformat": 4,
 "nbformat_minor": 5
}
