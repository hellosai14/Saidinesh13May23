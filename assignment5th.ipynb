{
 "cells": [
  {
   "cell_type": "markdown",
   "id": "bd72cedc",
   "metadata": {},
   "source": [
    "# 1. What does an empty dictionary&#39;s code look like?"
   ]
  },
  {
   "cell_type": "code",
   "execution_count": null,
   "id": "166fff48",
   "metadata": {},
   "outputs": [],
   "source": [
    "Two curly brackets: {}"
   ]
  },
  {
   "cell_type": "markdown",
   "id": "cd313a2f",
   "metadata": {},
   "source": [
    "# 2. What is the value of a dictionary value with the key &#39;foo&#39; and the value 42?"
   ]
  },
  {
   "cell_type": "code",
   "execution_count": 4,
   "id": "40caf741",
   "metadata": {
    "scrolled": true
   },
   "outputs": [
    {
     "name": "stdout",
     "output_type": "stream",
     "text": [
      "42\n"
     ]
    }
   ],
   "source": [
    "my_dict={'foo': 42}\n",
    "print(my_dict[\"foo\"])"
   ]
  },
  {
   "cell_type": "markdown",
   "id": "77850880",
   "metadata": {},
   "source": [
    "# 3. What is the most significant distinction between a dictionary and a list?"
   ]
  },
  {
   "cell_type": "code",
   "execution_count": 6,
   "id": "e3dc3ef9",
   "metadata": {},
   "outputs": [],
   "source": [
    "#The items stored in a dictionary are unordered, while the items in a list are ordered."
   ]
  },
  {
   "cell_type": "markdown",
   "id": "48ebeb79",
   "metadata": {},
   "source": [
    "# 4. What happens if you try to access spam[&#39;foo&#39;] if spam is {&#39;bar&#39;: 100}?"
   ]
  },
  {
   "cell_type": "code",
   "execution_count": null,
   "id": "18248ba3",
   "metadata": {},
   "outputs": [],
   "source": [
    "You get a KeyError error."
   ]
  },
  {
   "cell_type": "markdown",
   "id": "d8465a1e",
   "metadata": {},
   "source": [
    "# 5. If a dictionary is stored in spam, what is the difference between the expressions &#39;cat&#39; in spam and &#39;cat&#39; in spam.keys()"
   ]
  },
  {
   "cell_type": "code",
   "execution_count": null,
   "id": "90e06bac",
   "metadata": {},
   "outputs": [],
   "source": [
    "'''There is no difference. The in operator checks whether a value exists as a key in the dictionary.'''"
   ]
  },
  {
   "cell_type": "markdown",
   "id": "4197bd59",
   "metadata": {},
   "source": [
    "# 6. If a dictionary is stored in spam, what is the difference between the expressions &#39;cat&#39; in spam and &#39;cat&#39; in spam.values()?"
   ]
  },
  {
   "cell_type": "code",
   "execution_count": 12,
   "id": "3710834c",
   "metadata": {},
   "outputs": [
    {
     "name": "stdout",
     "output_type": "stream",
     "text": [
      "True\n",
      "False\n"
     ]
    }
   ],
   "source": [
    "'''    'cat' in spam checks if the key 'cat' exists in the dictionary spam.\n",
    "    'cat' in spam.values() checks if the value 'cat' exists in any of the values of the dictionary spam.'''\n",
    "\n",
    "spam={'cat':'leaf'}\n",
    "print('cat' in spam)\n",
    "print('cat' in spam.values())\n"
   ]
  },
  {
   "cell_type": "markdown",
   "id": "27325180",
   "metadata": {},
   "source": [
    "# 7. What is a shortcut for the following code?\n",
    "# if &#39;color&#39; not in spam:\n",
    "# spam[&#39;color&#39;] = &#39;black&#39;"
   ]
  },
  {
   "cell_type": "code",
   "execution_count": 34,
   "id": "c28b4046",
   "metadata": {
    "scrolled": true
   },
   "outputs": [
    {
     "name": "stdout",
     "output_type": "stream",
     "text": [
      "{'name': 'sai', 'color': 'black'}\n"
     ]
    }
   ],
   "source": [
    "spam={'name':'sai'}\n",
    "spam.setdefault('color', 'black')\n",
    "print(spam)\n"
   ]
  },
  {
   "cell_type": "markdown",
   "id": "b75d4220",
   "metadata": {},
   "source": [
    "# 8. How do you &quot;pretty print&quot; dictionary values using which module and function?"
   ]
  },
  {
   "cell_type": "code",
   "execution_count": 30,
   "id": "b4c6970f",
   "metadata": {},
   "outputs": [
    {
     "name": "stdout",
     "output_type": "stream",
     "text": [
      "{'address': '123 Main Street',\n",
      " 'age': 30,\n",
      " 'email': 'johndoe@example.com',\n",
      " 'name': 'John Doe',\n",
      " 'phone': '555-1234'}\n"
     ]
    }
   ],
   "source": [
    "'''The pprint.pprint() function will output the dictionary in a visually appealing \n",
    "format with each key-value pair on a separate line, \n",
    "indented properly for nested structures, and with appropriate line breaks.'''\n",
    "\n",
    "\n",
    "import pprint\n",
    "my_dict = {\n",
    "    'name':'John Doe',\n",
    "    'age':  30,\n",
    "    'email': 'johndoe@example.com',\n",
    "    'address':'123 Main Street',\n",
    "    'phone':'555-1234'\n",
    "}\n",
    "\n",
    "pprint.pprint(my_dict)\n"
   ]
  },
  {
   "cell_type": "code",
   "execution_count": null,
   "id": "f18c708c",
   "metadata": {},
   "outputs": [],
   "source": []
  },
  {
   "cell_type": "code",
   "execution_count": null,
   "id": "5e70fa9f",
   "metadata": {},
   "outputs": [],
   "source": []
  }
 ],
 "metadata": {
  "kernelspec": {
   "display_name": "Python 3 (ipykernel)",
   "language": "python",
   "name": "python3"
  },
  "language_info": {
   "codemirror_mode": {
    "name": "ipython",
    "version": 3
   },
   "file_extension": ".py",
   "mimetype": "text/x-python",
   "name": "python",
   "nbconvert_exporter": "python",
   "pygments_lexer": "ipython3",
   "version": "3.10.9"
  }
 },
 "nbformat": 4,
 "nbformat_minor": 5
}
