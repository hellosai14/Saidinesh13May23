{
 "cells": [
  {
   "cell_type": "markdown",
   "id": "c9b38c83",
   "metadata": {},
   "source": [
    "# Q.1. Create two int type variables, apply addition, subtraction, division and multiplications and store the results in variables. Then print the data in the following format by calling the variables:"
   ]
  },
  {
   "cell_type": "code",
   "execution_count": 26,
   "id": "c9682099",
   "metadata": {},
   "outputs": [
    {
     "name": "stdout",
     "output_type": "stream",
     "text": [
      "First variable is 5 & Second variable is 10\n",
      "Addition: 5 + 10 = 15\n",
      "Subtraction: 5 - 10 = -5\n",
      "Multiplication: 5 * 10 = 50\n",
      "Divison: 5 / 10 = 0.5\n"
     ]
    }
   ],
   "source": [
    "a=5\n",
    "b=10\n",
    "add=a+b\n",
    "sub=a-b\n",
    "mul=a*b\n",
    "div=a/b\n",
    "print('First variable is', a, '&' ' Second variable is', b)\n",
    "print ('Addition:', a, '+', b, '=', add)\n",
    "print('Subtraction:', a, '-', b, '=', sub)\n",
    "print('Multiplication:', a, '*', b, '=', mul)\n",
    "print('Divison:', a, '/', b, '=', div)"
   ]
  },
  {
   "cell_type": "markdown",
   "id": "49d9b6fd",
   "metadata": {},
   "source": [
    "# Q.2. What is the difference between the following operators: (i) ‘/’ & ‘//’ (ii) ‘**’ & ‘^’"
   ]
  },
  {
   "cell_type": "code",
   "execution_count": 83,
   "id": "b607b776",
   "metadata": {},
   "outputs": [
    {
     "name": "stdout",
     "output_type": "stream",
     "text": [
      "3.6\n",
      "3\n",
      "1889568\n",
      "23\n"
     ]
    }
   ],
   "source": [
    "a=18\n",
    "b=5\n",
    "x= a/b\n",
    "y= a//b\n",
    "z= a**b\n",
    "xx= a^b\n",
    "\n",
    "#'/': The forward slash operator (/) is used for division and returns the quotient as a floating-point number. \n",
    "#It performs normal division.\"\"\"\n",
    "print(x)\n",
    "\n",
    "#'//': The double forward slash operator (//) is used for integer division or floor division. \n",
    "#It returns the quotient as an integer(if both input is integer) by rounding down the result to the nearest whole number.\n",
    "print(y)\n",
    "\n",
    "# '**': The double asterisk operator (**) is used for exponentiation. \n",
    "#   It raises the left operand to the power of the right operand.\n",
    "print(z)\n",
    "\n",
    "#'^': The caret operator (^) is not used for exponentiation in Python. \n",
    "#Instead, it is used as the bitwise XOR operator to perform bitwise XOR operation on the binary representation of two numbers.\n",
    "\n",
    "'''Binary of 18:   10010\n",
    "   Binary of 5:    00101\n",
    "-----------------------\n",
    "   Result (XOR):   10111 '''\n",
    "\n",
    "print(xx) # 23 is the number for binary 10111\n"
   ]
  },
  {
   "cell_type": "markdown",
   "id": "737f27b1",
   "metadata": {},
   "source": [
    "# Q.3. List the logical operators."
   ]
  },
  {
   "cell_type": "markdown",
   "id": "4a8ac3ca",
   "metadata": {},
   "source": [
    "In Python, the logical operators are used to perform logical operations on Boolean values (True or False). The following are the logical operators in Python:\n",
    "\n",
    "1. `and`: The logical AND operator returns True if both operands are True, otherwise it returns False.\n",
    "Example:\n",
    "```python\n",
    "True and True   # Output: True\n",
    "True and False  # Output: False\n",
    "```\n",
    "\n",
    "2. `or`: The logical OR operator returns True if at least one of the operands is True, otherwise it returns False.\n",
    "Example:\n",
    "```python\n",
    "True or False   # Output: True\n",
    "False or False  # Output: False\n",
    "```\n",
    "\n",
    "3. `not`: The logical NOT operator returns the negation of the operand. If the operand is True, it returns False, and if the operand is False, it returns True.\n",
    "Example:\n",
    "```python\n",
    "not True   # Output: False\n",
    "not False  # Output: True\n",
    "```\n",
    "\n",
    "These logical operators can be used to combine and evaluate Boolean expressions in Python."
   ]
  },
  {
   "cell_type": "markdown",
   "id": "ecca82d5",
   "metadata": {},
   "source": [
    "# Q.4. Explain right shift operator and left shift operator with examples."
   ]
  },
  {
   "cell_type": "markdown",
   "id": "d0a8b0c1",
   "metadata": {},
   "source": [
    "Right Shift (`>>`):\n",
    "The right shift operator (`>>`) shifts the bits of a number to the right by the specified number of positions.The rightmost bits are discarded, and the vacant positions on the left are filled with the sign bit (for signed integers) or zero (for unsigned integers).\n",
    "\n",
    "In the below example, the number 100 is shifted two positions to the right using the `>>` operator. The result is 25 because the binary representation `1100100` is shifted two positions to the right, resulting in `11001` (binary representation of 25)."
   ]
  },
  {
   "cell_type": "code",
   "execution_count": 63,
   "id": "387c2821",
   "metadata": {},
   "outputs": [
    {
     "name": "stdout",
     "output_type": "stream",
     "text": [
      "Binary of 100 is: 1100100\n",
      "Binary of 25 is: 11001\n",
      "Right shifted number is: 25\n"
     ]
    }
   ],
   "source": [
    "\n",
    "number = 100  # Binary: 1100100\n",
    "shifted = number >> 2\n",
    "print('Binary of 100 is:', bin(100)[2:])\n",
    "print('Binary of 25 is:', bin(25)[2:])\n",
    "print('Right shifted number is:', shifted)"
   ]
  },
  {
   "cell_type": "markdown",
   "id": "b98ef3c3",
   "metadata": {},
   "source": [
    "Left Shift (`<<`):\n",
    "The left shift operator (`<<`) shifts the bits of a number to the left by the specified number of positions. The rightmost positions are filled with zero.\n",
    "\n",
    "In the below example, the number 33 is shifted three positions to the left using the `<<` operator. The result is 132 because the binary representation `100001` is shifted three positions to the left, resulting in `10000100` (binary representation of 132).\n",
    "\n"
   ]
  },
  {
   "cell_type": "code",
   "execution_count": 67,
   "id": "7c3b1728",
   "metadata": {},
   "outputs": [
    {
     "name": "stdout",
     "output_type": "stream",
     "text": [
      "Binary of 33 is:  100001\n",
      "Binary of 132 is: 10000100\n",
      "Left shifted number is: 132\n"
     ]
    }
   ],
   "source": [
    "number = 33 # Binary: 100001\n",
    "shifted = number << 2\n",
    "print('Binary of 33 is: ', bin(33)[2:])\n",
    "print('Binary of 132 is:', bin(132)[2:])\n",
    "\n",
    "print('Left shifted number is:', shifted)"
   ]
  },
  {
   "cell_type": "markdown",
   "id": "075856fa",
   "metadata": {},
   "source": [
    "# Q.5. Create a list containing int type data of length 15. Then write a code to check if 10 is present in the list or not."
   ]
  },
  {
   "cell_type": "code",
   "execution_count": 81,
   "id": "3ab12405",
   "metadata": {},
   "outputs": [
    {
     "name": "stdout",
     "output_type": "stream",
     "text": [
      "True\n"
     ]
    }
   ],
   "source": [
    "my_list = [5, 8, 3, 10, 6, 9, 7, 15, 9, 18, 20, 14, 11, 17, 13]\n",
    "check= 10 in my_list\n",
    "print(check)"
   ]
  },
  {
   "cell_type": "code",
   "execution_count": 80,
   "id": "7d1f24f8",
   "metadata": {},
   "outputs": [
    {
     "name": "stdout",
     "output_type": "stream",
     "text": [
      "10 is present in the list.\n"
     ]
    }
   ],
   "source": [
    "my_list = [5, 8, 3, 12, 6, 10, 7, 15, 9, 18, 20, 14, 11, 17, 13]\n",
    "\n",
    "x = 10\n",
    "if x in my_list:\n",
    "    print(f\"{x} is present in the list.\")\n",
    "else:\n",
    "    print(f\"{x} is not present in the list.\")\n"
   ]
  }
 ],
 "metadata": {
  "kernelspec": {
   "display_name": "Python 3 (ipykernel)",
   "language": "python",
   "name": "python3"
  },
  "language_info": {
   "codemirror_mode": {
    "name": "ipython",
    "version": 3
   },
   "file_extension": ".py",
   "mimetype": "text/x-python",
   "name": "python",
   "nbconvert_exporter": "python",
   "pygments_lexer": "ipython3",
   "version": "3.10.9"
  }
 },
 "nbformat": 4,
 "nbformat_minor": 5
}
