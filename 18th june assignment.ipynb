{
 "cells": [
  {
   "cell_type": "markdown",
   "metadata": {},
   "source": [
    "1. What is the role of the 'else' block in a try-except statement? Provide an example\n",
    "scenario where it would be useful."
   ]
  },
  {
   "cell_type": "code",
   "execution_count": 1,
   "metadata": {},
   "outputs": [
    {
     "name": "stdout",
     "output_type": "stream",
     "text": [
      "No exception occurred.\n",
      "The result is: 100\n"
     ]
    }
   ],
   "source": [
    "'''The 'else' block in a try-except statement is optional and is used to define a block of code that should be executed \n",
    "if no exceptions occur within the 'try' block. It provides an alternative path of execution when an exception is not raised.'''\n",
    "\n",
    "try:\n",
    "    # Perform some operation that may or may not raise an exception\n",
    "    power= 10 ** 2\n",
    "except:\n",
    "    # Handle any exception that occurs\n",
    "    print(\"An exception occurred.\")\n",
    "else:\n",
    "    # If no exception occurred, execute this block\n",
    "    print(\"No exception occurred.\")\n",
    "    print(\"The result is:\", power)\n",
    "    \n",
    "    \n",
    "'''If an exception were to occur during the division, the 'except' block would be executed instead, \n",
    "and the code within the 'else' block would be skipped.'''\n",
    "\n"
   ]
  },
  {
   "cell_type": "markdown",
   "metadata": {},
   "source": [
    "2. Can a try-except block be nested inside another try-except block? Explain with an\n",
    "example."
   ]
  },
  {
   "cell_type": "code",
   "execution_count": 15,
   "metadata": {},
   "outputs": [
    {
     "name": "stdout",
     "output_type": "stream",
     "text": [
      "No exception occurred in the nested try block.\n",
      "No exception occurred in the outer try block.\n"
     ]
    }
   ],
   "source": [
    "try:\n",
    "    try:        \n",
    "        number = int(input(\"Enter a number: \"))\n",
    "        result = 10 / number\n",
    "    except ValueError:\n",
    "        print(\"Invalid input. Please enter a valid number.\")\n",
    "    else:\n",
    "        # If no exception occurred in the nested try block, execute this block\n",
    "        print(\"No exception occurred in the nested try block.\")\n",
    "except ZeroDivisionError:\n",
    "    # Handle the ZeroDivisionError exception in the outer try block\n",
    "    print(\"Cannot divide by zero.\")\n",
    "else:\n",
    "    # If no exception occurred in the outer try block, execute this block\n",
    "    print(\"No exception occurred in the outer try block.\")\n"
   ]
  },
  {
   "cell_type": "markdown",
   "metadata": {},
   "source": [
    "3. How can you create a custom exception class in Python? Provide an example that\n",
    "demonstrates its usage."
   ]
  },
  {
   "cell_type": "code",
   "execution_count": 43,
   "metadata": {},
   "outputs": [
    {
     "name": "stdout",
     "output_type": "stream",
     "text": [
      "You can work\n"
     ]
    }
   ],
   "source": [
    "# you can define a custom exception using Class.\n",
    "\n",
    "class WrongAge(Exception):\n",
    "    #Raised when the input value is less than 18\n",
    "    pass\n",
    "\n",
    "n = 18\n",
    "try:\n",
    "    input_num = int(input(\"Enter a age: \"))\n",
    "    if input_num < n:\n",
    "        raise WrongAge # calling your custom exception\n",
    "    else:\n",
    "        print(\"You can work\")\n",
    "except WrongAge:\n",
    "    print(\"Invalid Age: You are not allowed to work\")\n",
    " \n",
    "\n"
   ]
  },
  {
   "cell_type": "markdown",
   "metadata": {},
   "source": [
    "4. What are some common exceptions that are built-in to Python?\n"
   ]
  },
  {
   "cell_type": "markdown",
   "metadata": {},
   "source": [
    "'''Some of the most commonly used built-in exceptions in Python:\n",
    "\n",
    "1. `Exception`: The base class for all exceptions. It is generally recommended to derive custom exception classes from this class.\n",
    "\n",
    "2. `SyntaxError`: Raised when there is a syntax error in the code.\n",
    "\n",
    "3. `TypeError`: Raised when an operation or function is applied to an object of an inappropriate type.\n",
    "\n",
    "4. `ValueError`: Raised when a function receives an argument of the correct type but with an invalid value.\n",
    "\n",
    "5. `NameError`: Raised when a local or global name is not found.\n",
    "\n",
    "6. `IndexError`: Raised when a sequence subscript is out of range.\n",
    "\n",
    "7. `KeyError`: Raised when a dictionary key is not found.\n",
    "\n",
    "8. `FileNotFoundError`: Raised when a file or directory is not found.\n",
    "\n",
    "9. `ZeroDivisionError`: Raised when division or modulo operation is performed with zero as the divisor.\n",
    "\n",
    "10. `AssertionError`: Raised when an `assert` statement fails.'''\n",
    "\n"
   ]
  },
  {
   "cell_type": "markdown",
   "metadata": {},
   "source": [
    "5. What is logging in Python, and why is it important in software development?"
   ]
  },
  {
   "cell_type": "markdown",
   "metadata": {},
   "source": [
    "Logging in Python refers to the process of recording log messages during the execution of a program. \n",
    "It involves capturing and storing relevant information, such as error messages, warnings, informational messages, and debugging details,\n",
    "It helps to understand the program's behavior and diagnose issues.\n",
    "\n",
    "Logging is essential in software development for the following reasons:\n",
    "\n",
    "1. Debugging and Issue Investigation\n",
    "2. Monitoring and Maintenance\n",
    "3. Auditing and Compliance:\n",
    "4. Post-mortem Analysis\n",
    "5. Improving Development and Testing\n",
    "\n",
    "Python provides a built-in logging module that offers a flexible and configurable logging framework. \n",
    "It allows developers to define logging levels, specify log message formats, control log destinations (such as files or streams), \n",
    "and customize log handlers. \n",
    "By leveraging the logging module, developers can incorporate consistent and effective logging practices into their applications, \n",
    "facilitating better software development, maintenance, and debugging processes."
   ]
  },
  {
   "cell_type": "markdown",
   "metadata": {},
   "source": [
    "6. Explain the purpose of log levels in Python logging and provide examples of when\n",
    "each log level would be appropriate."
   ]
  },
  {
   "cell_type": "markdown",
   "metadata": {},
   "source": [
    "\"Log levels in Python logging allow developers to categorize log messages based on their severity or importance\"\n",
    "\n",
    "Here are the different log levels in increasing order of severity:\n",
    "\n",
    "DEBUG: Detailed information, typically of interest only when diagnosing problems.</li>\n",
    "Example: logging.debug(\"This is a debug message with detailed information.\")\n",
    "\n",
    "INFO: Confirmation that things are working as expected\n",
    "logging.info(\"The application has started.\")\n",
    "\n",
    "WARNING: An indication that something unexpected happened, or may happen in the future.The software is still working as expected.\n",
    "logging.warning(\"The system disk space is running low.\")\n",
    "\n",
    "ERROR: More serious problem that prevented the software from performing a function.\n",
    "Scenario:\n",
    "It represents issues that prevent normal operations or functionality.\n",
    "\n",
    "CRITICAL: A very serious error, indicating that the program itself may be unable to continue running.\n",
    "Scenario:\n",
    "The highest log level used to capture critical errors or failures that may result in a system crash or severe consequences"
   ]
  },
  {
   "cell_type": "markdown",
   "metadata": {},
   "source": [
    "7. What are log formatters in Python logging, and how can you customise the log\n",
    "message format using formatters?"
   ]
  },
  {
   "cell_type": "code",
   "execution_count": 12,
   "metadata": {},
   "outputs": [],
   "source": [
    "import os\n",
    "import logging\n",
    "\n",
    "# Specify the directory and file\n",
    "dir_path = r'C:\\Users\\Hp\\Desktop'\n",
    "log_file = 'welcome.txt'\n",
    "full_path = os.path.join(dir_path, log_file)\n",
    "\n",
    "# Check if the directory exists and create it if necessary\n",
    "os.makedirs(dir_path, exist_ok=True)\n",
    "\n",
    "# Set up logging\n",
    "# Get a logger instance (this will fetch the root logger)\n",
    "logger = logging.getLogger()\n",
    "\n",
    "logger.setLevel(logging.DEBUG)\n",
    "\n",
    "# Create a FileHandler instance to write logs to a file\n",
    "handler = logging.FileHandler(full_path)\n",
    "\n",
    "# Set the format of the logs using a Formatter\n",
    "# This format includes the log timestamp, log level and log message\n",
    "\n",
    "handler.setFormatter(logging.Formatter('%(asctime)s:%(levelname)s:%(message)s'))\n",
    "\n",
    "# Add the handler to the logger\n",
    "# This connects the logger to the handler so that logs get written to the file\n",
    "logger.addHandler(handler)\n",
    "\n",
    "\n",
    "def LetUsCheckSystem(sys):\n",
    "    if sys != 'OK':\n",
    "        logging.critical('System failure: %s', sys)\n",
    "\n",
    "LetUsCheckSystem('You need to handle the issue now')\n",
    "handler.close()\n",
    "\n",
    "logging.basicConfig(level=logging.DEBUG)\n",
    "\n",
    "# Logging Level: severity of the event being logged\n",
    "# Least severe to most severe\n",
    "logging.debug('This is a debug message')\n",
    "logging.info('This is an info message')\n",
    "logging.warning('This is a warning message')\n",
    "logging.error('This is an error message')\n",
    "logging.critical('This is a critical message')\n",
    "\n"
   ]
  },
  {
   "cell_type": "markdown",
   "metadata": {},
   "source": [
    "8. How can you set up logging to capture log messages from multiple modules or\n",
    "classes in a Python application?"
   ]
  },
  {
   "cell_type": "code",
   "execution_count": 14,
   "metadata": {},
   "outputs": [],
   "source": [
    "# first import the logging library\n",
    "import logging\n",
    "\n",
    "\"\"\" In the code above, we first import the logging module, then we call the \n",
    "    basicConfig method to configure the logging. \n",
    "    \n",
    "    We set the level to DEBUG, which means that all logs of level \n",
    "    DEBUG and above will be tracked.\"\"\"\n",
    "\n",
    "\n",
    "logging.basicConfig(level=logging.DEBUG)\n",
    "\n",
    "logger1=logging.getLogger('module1')\n",
    "logger2=logging.getLogger('module2')\n",
    "\n",
    "logger1.setLevel(logging.INFO)\n",
    "logger2.setLevel(logging.ERROR)\n",
    "\n",
    "handler = logging.FileHandler(full_path)\n",
    "handler.setFormatter(logging.Formatter('%(asctime)s:%(levelname)s:%(message)s'))\n",
    "\n",
    "# Add the handler to the logger\n",
    "# This connects the logger to the handler so that logs get written to the file\n",
    "logger1.addHandler(handler)\n",
    "logger2.addHandler(handler)\n",
    "\n",
    "logger1.info('This is a info message')\n",
    "logger2.error('This is an error message')\n",
    "\n"
   ]
  },
  {
   "cell_type": "markdown",
   "metadata": {},
   "source": [
    "9. What is the difference between the logging and print statements in Python? When\n",
    "should you use logging over print statements in a real-world application?"
   ]
  },
  {
   "cell_type": "code",
   "execution_count": null,
   "metadata": {},
   "outputs": [],
   "source": [
    "'''Logging in Python:\n",
    "1.Record events and errors that occur during the execution of Python programs.\t\n",
    "2.Mainly used in the production environment.\t\n",
    "3.Some features are: Log levels, filtering, formatting, and more.\t\n",
    "4.It provides different log levels such as Debug, Info, Error, Warning, and Critical\n",
    "\n",
    "Printing in Python:\n",
    "\n",
    "1.Displays the information to the console for the debugging purposes.\n",
    "2.Mainly for debugging.\n",
    "3.There are no good features.\n",
    "4.It does not have any levels, it simply prints whatever is passed to it.'''\n",
    " "
   ]
  },
  {
   "cell_type": "markdown",
   "metadata": {},
   "source": [
    "10. Write a Python program that logs a message to a file named \"app.log\" with the\n",
    "following requirements:\n",
    "    \n",
    "● The log message should be \"Hello, World!\"\n",
    "● The log level should be set to \"INFO.\"\n",
    "● The log file should append new log entries without overwriting previous ones."
   ]
  },
  {
   "cell_type": "code",
   "execution_count": 3,
   "metadata": {},
   "outputs": [],
   "source": [
    "import os\n",
    "import logging\n",
    "\n",
    "# Specify the directory and file\n",
    "dir_path = r'C:\\Users\\Hp\\Desktop'\n",
    "log_file = 'app.log'\n",
    "full_path = os.path.join(dir_path, log_file)\n",
    "\n",
    "# Check if the directory exists and create it if necessary\n",
    "os.makedirs(dir_path, exist_ok=True)\n",
    "\n",
    "# Set up logging\n",
    "# Get a logger instance (this will fetch the root logger)\n",
    "logger = logging.getLogger()\n",
    "\n",
    "# Set the level of the logger to CRITICAL\n",
    "# This means it will handle events of level CRITICAL and above\n",
    "logger.setLevel(logging.DEBUG)\n",
    "\n",
    "# Create a FileHandler instance to write logs to a file\n",
    "handler = logging.FileHandler(full_path)\n",
    "\n",
    "# Set the format of the logs using a Formatter\n",
    "# This format includes the log timestamp, log level and log message\n",
    "handler.setFormatter(logging.Formatter('%(asctime)s:%(levelname)s:%(message)s'))\n",
    "\n",
    "# Add the handler to the logger\n",
    "# This connects the logger to the handler so that logs get written to the file\n",
    "logger.addHandler(handler)\n",
    "\n",
    "\n",
    "def LetUsCheckSystem(sys):\n",
    "    if sys != 'OK':\n",
    "        logging.critical('System failure: %s', sys)\n",
    "\n",
    "LetUsCheckSystem('You need to handle the issue now')\n",
    "handler.close()\n"
   ]
  },
  {
   "cell_type": "code",
   "execution_count": 5,
   "metadata": {},
   "outputs": [],
   "source": [
    "import logging\n",
    "\n",
    "logging.basicConfig(level=logging.INFO)\n",
    "\n",
    "def login(user):\n",
    "    logging.info('User %s \"Hello, World\"', user)\n",
    "\n",
    "login('Admin User')\n",
    "\n"
   ]
  },
  {
   "cell_type": "markdown",
   "metadata": {},
   "source": [
    "\n",
    "11. Create a Python program that logs an error message to the console and a file named\n",
    "\"errors.log\" if an exception occurs during the program's execution. The error\n",
    "message should include the exception type and a timestamp."
   ]
  },
  {
   "cell_type": "code",
   "execution_count": 13,
   "metadata": {},
   "outputs": [],
   "source": [
    "import os\n",
    "import logging\n",
    "\n",
    "# Specify the directory and file\n",
    "dir_path = r'C:\\Users\\Hp\\Desktop'\n",
    "log_file = 'errors.log'\n",
    "full_path = os.path.join(dir_path, log_file)\n",
    "\n",
    "# Check if the directory exists and create it if necessary\n",
    "os.makedirs(dir_path, exist_ok=True)\n",
    "\n",
    "# Set up logging\n",
    "# Get a logger instance (this will fetch the root logger)\n",
    "logger = logging.getLogger()\n",
    "\n",
    "# Set the level of the logger to CRITICAL\n",
    "# This means it will handle events of level CRITICAL and above\n",
    "logger.setLevel(logging.INFO)\n",
    "\n",
    "# Create a FileHandler instance to write logs to a file\n",
    "handler = logging.FileHandler(full_path)\n",
    "\n",
    "# Set the format of the logs using a Formatter\n",
    "# This format includes the log timestamp, log level and log message\n",
    "handler.setFormatter(logging.Formatter('%(asctime)s:%(levelname)s:%(message)s'))\n",
    "\n",
    "# Add the handler to the logger\n",
    "# This connects the logger to the handler so that logs get written to the file\n",
    "logger.addHandler(handler)\n",
    "\n",
    "\n",
    "def LetUsCheckSystem(sys):\n",
    "    if sys != 'OK':\n",
    "        logging.critical('System failure: %s', sys)\n",
    "\n",
    "LetUsCheckSystem('You need to handle the issue now')\n",
    "handler.close()"
   ]
  },
  {
   "cell_type": "code",
   "execution_count": 7,
   "metadata": {},
   "outputs": [],
   "source": [
    "import logging\n",
    "\n",
    "logging.basicConfig(level=logging.ERROR)\n",
    "\n",
    "def LetUsDivide(n, d):\n",
    "    try:\n",
    "        result = n / d\n",
    "    except ZeroDivisionError:\n",
    "        logging.error('You have encountered ZeroDivisionError')\n",
    "    else:\n",
    "        return result\n",
    "\n",
    "LetUsDivide(4, 0)"
   ]
  }
 ],
 "metadata": {
  "kernelspec": {
   "display_name": "base",
   "language": "python",
   "name": "python3"
  },
  "language_info": {
   "codemirror_mode": {
    "name": "ipython",
    "version": 3
   },
   "file_extension": ".py",
   "mimetype": "text/x-python",
   "name": "python",
   "nbconvert_exporter": "python",
   "pygments_lexer": "ipython3",
   "version": "3.10.9"
  },
  "orig_nbformat": 4
 },
 "nbformat": 4,
 "nbformat_minor": 2
}
