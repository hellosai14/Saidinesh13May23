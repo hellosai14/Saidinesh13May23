{
 "cells": [
  {
   "cell_type": "markdown",
   "id": "b04410a1",
   "metadata": {},
   "source": [
    "1. In the below elements which of them are values or an expression? eg:- values can be integer or string and expressions will be mathematical operators.\n",
    "\n",
    "* \n",
    "'hello'           String\n",
    "-87.8             Float\n",
    "-                 Expression( Mathematical operator)\n",
    "/                 Expression( Mathematical operator)\n",
    "+\t              Expression( Mathematical operator)\n",
    "6                 Integer\n"
   ]
  },
  {
   "cell_type": "markdown",
   "id": "ff3fec8e",
   "metadata": {},
   "source": [
    "2. What is the difference between string and variable?\n",
    "\n",
    "Variables: \n",
    "1.They are declared by writing the variable name and assigning it a value using the equals sign (=). It can be Integer, String or Lists. -->\n",
    "2. It's like an empty box that you can fill data or value.\n",
    "\n",
    "String: \n",
    "1.Strings in Python are sequences of character data. They are created by enclosing characters in quotes.\n",
    "2. Strings are data that you can use to fill a variable.\n"
   ]
  },
  {
   "cell_type": "markdown",
   "id": "0ebcd5fd",
   "metadata": {},
   "source": [
    "3. Describe three different data types.\n",
    "\n",
    "1.Integers eg. 10, 100\n",
    "2. Float eg. 1.5, -3.5\n",
    "3. String eg. a=\"apple\""
   ]
  },
  {
   "cell_type": "markdown",
   "id": "0d295d20",
   "metadata": {},
   "source": [
    "4. What is an expression made up of? What do all expressions do?\n",
    "\n",
    "An expression is a combination of operators and operands that is interpreted to produce some other value.An arithmetic expression is a combination of numeric values, operators ( +,-,/,*,%,//,**) and sometimes parenthesis.\n",
    "The result of this type of expression is also a numeric value. \n",
    "\n",
    "The expression in Python produces some value or result after being interpreted by the Python interpreter."
   ]
  },
  {
   "cell_type": "code",
   "execution_count": 5,
   "id": "685e8a63",
   "metadata": {},
   "outputs": [
    {
     "name": "stdout",
     "output_type": "stream",
     "text": [
      "5\n",
      "9\n"
     ]
    }
   ],
   "source": [
    "#5. This assignment statements, like spam = 10. What is the difference between an expression and a statement?\n",
    "\n",
    "#A statement in Python is used for creating variables or for displaying values.\n",
    "#A statement can be an expression.\n",
    "a=5\n",
    "print (a)\n",
    "\n",
    "#The expression in Python produces some value or result after being interpreted by the Python interpreter.\n",
    "#An expression is not a statement.\n",
    "b=3+6\n",
    "print (b)"
   ]
  },
  {
   "cell_type": "code",
   "execution_count": 6,
   "id": "1405e523",
   "metadata": {},
   "outputs": [
    {
     "name": "stdout",
     "output_type": "stream",
     "text": [
      "22\n"
     ]
    }
   ],
   "source": [
    "#6. After running the following code, what does the variable bacon contain?\n",
    "bacon = 22\n",
    "bacon + 1\n",
    "print (bacon)\n"
   ]
  },
  {
   "cell_type": "code",
   "execution_count": 21,
   "id": "3b74c0f5",
   "metadata": {},
   "outputs": [
    {
     "name": "stdout",
     "output_type": "stream",
     "text": [
      "spamspamspam\n",
      "spamspamspam\n"
     ]
    }
   ],
   "source": [
    "#7. What should the values of the following two terms be?\n",
    "# 'spam' + 'spamspam'\n",
    "\n",
    "print ('spam' + 'spamspam')\n",
    "print ('spam' * 3)\n",
    "\n"
   ]
  },
  {
   "cell_type": "markdown",
   "id": "5bc10396",
   "metadata": {},
   "source": [
    "#8. Why is eggs a valid variable name while 100 is invalid?\n",
    "\n",
    "#The identifier must start with a letter or the underscore character, but not with a digit.Phython does not recognize it.\n",
    "\n",
    "eggs=10\n",
    "print (eggs)\n",
    "output is 10\n",
    "\n",
    "while,\n",
    "100= 15\n",
    "print (100)\n",
    "Following error will occur:\n",
    " SyntaxError: cannot assign to literal here. Maybe you meant '==' instead of '='?"
   ]
  },
  {
   "cell_type": "code",
   "execution_count": 43,
   "id": "9a7ed4db",
   "metadata": {},
   "outputs": [
    {
     "name": "stdout",
     "output_type": "stream",
     "text": [
      "50 50.0 50\n"
     ]
    }
   ],
   "source": [
    "#9. What three functions can be used to get the integer, floating-point number, or string version of a value?\n",
    "\n",
    "#int() , float() , and str( ) functions\n",
    "\n",
    "\n",
    "print (int(50),float(50), str(50) )\n"
   ]
  },
  {
   "cell_type": "markdown",
   "id": "a1bc22d5",
   "metadata": {},
   "source": [
    "10. Why does this expression cause an error? How can you fix it?\n",
    "'I have eaten ' + 100+ ' burritos.'\n",
    "\n",
    "The value which are concatenating needs to be of same type, either integer/float alone or string alone."
   ]
  }
 ],
 "metadata": {
  "kernelspec": {
   "display_name": "Python 3 (ipykernel)",
   "language": "python",
   "name": "python3"
  },
  "language_info": {
   "codemirror_mode": {
    "name": "ipython",
    "version": 3
   },
   "file_extension": ".py",
   "mimetype": "text/x-python",
   "name": "python",
   "nbconvert_exporter": "python",
   "pygments_lexer": "ipython3",
   "version": "3.10.9"
  }
 },
 "nbformat": 4,
 "nbformat_minor": 5
}
