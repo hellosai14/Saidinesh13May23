{
 "cells": [
  {
   "cell_type": "markdown",
   "metadata": {},
   "source": [
    "# 1. Explain what inheritance is in object-oriented programming and why it is used."
   ]
  },
  {
   "cell_type": "markdown",
   "metadata": {},
   "source": [
    "''' Inheritance is a fundamental concept in object-oriented programming (OOP) that allows a class to inherit properties and behaviors from another class.\n",
    "The main purpose of inheritance is to promote code reusability and enhance the organization of code. \n",
    "It allows developers to define common attributes and behaviors in a base class, which can then be inherited by multiple derived classes\n",
    "\n",
    "Inheritance provides several advantages in object-oriented programming:\n",
    "\n",
    "Code reuse: Inherited attributes and methods can be reused by multiple derived classes, reducing redundancy and promoting efficient code development.\n",
    "\n",
    "Modularity: Inheritance allows you to modularize your code by organizing classes into a hierarchy, making it easier to understand, maintain, and extend the functionality of your software.\n",
    "\n",
    "Polymorphism: Inheritance enables polymorphism, which means that objects of different derived classes can be treated as objects of the base class.\n",
    " This promotes flexibility and allows for writing more generic code that can work with different types of objects.\n",
    "\n",
    "Overriding: Derived classes can override the behavior of inherited methods to provide their own implementation, allowing for customization and specialization.'''\n"
   ]
  },
  {
   "cell_type": "markdown",
   "metadata": {},
   "source": [
    "# 2. Discuss the concept of single inheritance and multiple inheritance, highlighting their\n",
    "# differences and advantages."
   ]
  },
  {
   "cell_type": "markdown",
   "metadata": {},
   "source": [
    "Single Inheritance:\n",
    "Single inheritance refers to the concept where a class can inherit properties and behaviors from a single parent class. In other words, a derived class can have only one direct superclass. \n",
    "The derived class extends the functionality of the parent class by adding its own attributes and methods or by overriding the inherited ones.\n",
    "\n",
    "\n",
    "Multiple Inheritance:\n",
    "Multiple inheritance allows a class to inherit properties and behaviors from multiple parent classes. \n",
    "This means that a derived class can have more than one direct superclass. It enables the derived class to combine and inherit features from different sources.\n",
    "\n",
    "\n",
    "Advantages of Single Inheritance in Python:\n",
    "\n",
    "Simplicity, Avoiding complexity.\n",
    "\n",
    "Advantages of Multiple Inheritance in Python:\n",
    "\n",
    "Code Reusability,Enhanced Flexibility\n",
    "\n"
   ]
  },
  {
   "cell_type": "markdown",
   "metadata": {},
   "source": [
    "# 3. Explain the terms \"base class\" and \"derived class\" in the context of inheritance."
   ]
  },
  {
   "cell_type": "markdown",
   "metadata": {},
   "source": [
    "'''Base Class:\n",
    "A base class, also known as a superclass or parent class, is the class from which other classes inherit properties and behaviors. \n",
    "It serves as a template or blueprint for creating derived classes. \n",
    "The base class encapsulates common attributes and methods that can be shared among multiple derived classes. \n",
    "It defines the fundamental structure and functionality that can be extended or specialized by its derived classes.\n",
    "\n",
    "Derived Class:\n",
    "A derived class, also referred to as a subclass or child class, is a class that inherits properties and behaviors from a base class. \n",
    "It extends and specializes the functionality of the base class by adding its own unique attributes and methods or by overriding the inherited ones. \n",
    "A derived class can have only one direct superclass (single inheritance) or multiple direct superclasses (multiple inheritance).'''\n",
    "\n"
   ]
  },
  {
   "cell_type": "markdown",
   "metadata": {},
   "source": [
    "# 4. What is the significance of the \"protected\" access modifier in inheritance? How does\n",
    "# it differ from \"private\" and \"public\" modifiers?"
   ]
  },
  {
   "cell_type": "markdown",
   "metadata": {},
   "source": [
    "# Public \n",
    "members are accessible from anywhere, including derived classes and external code.\n",
    "# Private \n",
    "members are only accessible within the class where they are defined, ensuring encapsulation and hiding implementation details.\n",
    "# Protected \n",
    "members are accessible within the class where they are defined and by derived classes, but not accessible from outside the class hierarchy."
   ]
  },
  {
   "cell_type": "markdown",
   "metadata": {},
   "source": [
    "# 5. What is the purpose of the \"super\" keyword in inheritance? Provide an example."
   ]
  },
  {
   "cell_type": "code",
   "execution_count": 1,
   "metadata": {},
   "outputs": [
    {
     "name": "stdout",
     "output_type": "stream",
     "text": [
      "Animal makes a sound.\n",
      "Dog barks.\n"
     ]
    }
   ],
   "source": [
    "\n",
    "'''In inheritance, the \"super\" keyword is used to refer to the immediate superclass (base class) of a derived class. \n",
    "It provides a way to access and invoke the methods and constructors of the superclass.'''\n",
    "\n",
    "class Animal:\n",
    "    def make_sound(self):\n",
    "        print(\"Animal makes a sound.\")\n",
    "\n",
    "class Dog(Animal):\n",
    "    def make_sound(self):\n",
    "        super().make_sound()  # Invoking the superclass method\n",
    "        print(\"Dog barks.\")\n",
    "\n",
    "dog = Dog()\n",
    "dog.make_sound()\n"
   ]
  },
  {
   "cell_type": "markdown",
   "metadata": {},
   "source": [
    "# 6. Create a base class called \"Vehicle\" with attributes like \"make\", \"model\", and \"year\".\n",
    "# Then, create a derived class called \"Car\" that inherits from \"Vehicle\" and adds an\n",
    "# attribute called \"fuel_type\". Implement appropriate methods in both classes."
   ]
  },
  {
   "cell_type": "code",
   "execution_count": 7,
   "metadata": {},
   "outputs": [
    {
     "name": "stdout",
     "output_type": "stream",
     "text": [
      "The car is of Make:Hyundai, Model:2012, Year:2013, and Fueltype:Diesel\n"
     ]
    }
   ],
   "source": [
    "class Vehicle:\n",
    "    def __init__(self, make, model,year):\n",
    "        self.make=make\n",
    "        self.model=model\n",
    "        self.year=year\n",
    "        \n",
    "class Car(Vehicle):\n",
    "    def __init__(self, make, model, year, fuel_type):\n",
    "        super().__init__(make, model, year)\n",
    "        self.fuel_type=fuel_type\n",
    "        print(f'The car is of Make:{self.make}, Model:{self.model}, Year:{self.year}, and Fueltype:{self.fuel_type}')\n",
    "        \n",
    "        \n",
    "\n",
    "car1=Car('Hyundai', 2012, 2013,'Diesel')\n"
   ]
  },
  {
   "cell_type": "markdown",
   "metadata": {},
   "source": [
    "# 7.Create a base class called \"Employee\" with attributes like \"name\" and \"salary.\"\n",
    "Derive two classes, \"Manager\" and \"Developer,\" from \"Employee.\" Add an additional\n",
    "attribute called \"department\" for the \"Manager\" class and \"programming_language\"\n",
    "for the \"Developer\" class."
   ]
  },
  {
   "cell_type": "code",
   "execution_count": 15,
   "metadata": {},
   "outputs": [
    {
     "name": "stdout",
     "output_type": "stream",
     "text": [
      "Details of Manager are: Name: Sai, Salary: 50,000 INR, Department: HR\n",
      "Details of Developer are: Name: Dinesh, Salary: 75,000 INR, Programming_language: Java\n"
     ]
    }
   ],
   "source": [
    "class Employee:\n",
    "    def __init__(self,name,salary):\n",
    "        self.name=name\n",
    "        self.salary=salary\n",
    "       \n",
    "class Manager(Employee):\n",
    "    def __init__(self,name,salary, department):\n",
    "        super().__init__(name,salary)\n",
    "        self.department=department\n",
    "        print(f'Details of Manager are: Name: {self.name}, Salary: {self.salary}, Department: {self.department}')\n",
    "        \n",
    "class Developer(Employee):\n",
    "    def __init__(self,name,salary,programming_language):\n",
    "        super().__init__(name,salary)\n",
    "        self.programming_language=programming_language\n",
    "        print(f'Details of Developer are: Name: {self.name}, Salary: {self.salary}, Programming_language: {self.programming_language}')\n",
    "        \n",
    "manager1=Manager('Sai','50,000 INR','HR')\n",
    "developer1=Developer('Dinesh', '75,000 INR', 'Java')\n",
    "        "
   ]
  },
  {
   "cell_type": "markdown",
   "metadata": {},
   "source": [
    "# 8. Design a base class called \"Shape\" with attributes like \"colour\" and \"border_width.\"\n",
    "Create derived classes, \"Rectangle\" and \"Circle,\" that inherit from \"Shape\" and add\n",
    "specific attributes like \"length\" and \"width\" for the \"Rectangle\" class and \"radius\" for\n",
    "the \"Circle\" class."
   ]
  },
  {
   "cell_type": "code",
   "execution_count": 6,
   "metadata": {},
   "outputs": [
    {
     "name": "stdout",
     "output_type": "stream",
     "text": [
      "green\n",
      "5\n",
      "15\n",
      "3\n",
      "yellow\n",
      "2\n",
      "5\n"
     ]
    }
   ],
   "source": [
    "class Shape:\n",
    "    def __init__(self, colour, border_width):\n",
    "        self.colour = colour\n",
    "        self.border_width = border_width\n",
    "\n",
    "\n",
    "class Rectangle(Shape):\n",
    "    def __init__(self, colour, border_width, length, width):\n",
    "        super().__init__(colour, border_width)\n",
    "        self.length = length\n",
    "        self.width = width\n",
    "\n",
    "\n",
    "class Circle(Shape):\n",
    "    def __init__(self, colour, border_width, radius):\n",
    "        super().__init__(colour, border_width)\n",
    "        self.radius = radius\n",
    "\n",
    "\n",
    "rectangle = Rectangle(\"green\",5, 15, 3)\n",
    "print(rectangle.colour)        \n",
    "print(rectangle.border_width)   \n",
    "print(rectangle.length)        \n",
    "print(rectangle.width)          \n",
    "\n",
    "circle = Circle(\"yellow\", 2, 5)\n",
    "print(circle.colour)         \n",
    "print(circle.border_width)      \n",
    "print(circle.radius)            \n"
   ]
  },
  {
   "cell_type": "markdown",
   "metadata": {},
   "source": [
    "# 9. Create a base class called \"Device\" with attributes like \"brand\" and \"model.\" Derive\n",
    "two classes, \"Phone\" and \"Tablet,\" from \"Device.\" Add specific attributes like\n",
    "\"screen_size\" for the \"Phone\" class and \"battery_capacity\" for the \"Tablet\" class."
   ]
  },
  {
   "cell_type": "code",
   "execution_count": 7,
   "metadata": {},
   "outputs": [
    {
     "name": "stdout",
     "output_type": "stream",
     "text": [
      "Oppo\n",
      "Reno 6\n",
      "6.7 inches\n",
      "Realme\n",
      "Fun Tab\n",
      "11,000 mAh\n"
     ]
    }
   ],
   "source": [
    "class Device:\n",
    "    def __init__(self, brand, model):\n",
    "        self.brand = brand\n",
    "        self.model = model\n",
    "\n",
    "\n",
    "class Phone(Device):\n",
    "    def __init__(self, brand, model, screen_size):\n",
    "        super().__init__(brand, model)\n",
    "        self.screen_size = screen_size\n",
    "\n",
    "\n",
    "class Tablet(Device):\n",
    "    def __init__(self, brand, model, battery_capacity):\n",
    "        super().__init__(brand, model)\n",
    "        self.battery_capacity = battery_capacity\n",
    "        \n",
    "phone = Phone(\"Oppo\", \"Reno 6\", \"6.7 inches\")\n",
    "print(phone.brand)           \n",
    "print(phone.model)          \n",
    "print(phone.screen_size)     \n",
    "\n",
    "tablet = Tablet(\"Realme\", \"Fun Tab\", \"11,000 mAh\")\n",
    "print(tablet.brand)          \n",
    "print(tablet.model)         \n",
    "print(tablet.battery_capacity)  \n",
    "\n"
   ]
  },
  {
   "cell_type": "markdown",
   "metadata": {},
   "source": [
    "# 10. Create a base class called \"BankAccount\" with attributes like \"account_number\" and\n",
    "\"balance.\" Derive two classes, \"SavingsAccount\" and \"CheckingAccount,\" from\n",
    "\"BankAccount.\" Add specific methods like \"calculate_interest\" for the\n",
    "\"SavingsAccount\" class and \"deduct_fees\" for the \"CheckingAccount\" class."
   ]
  },
  {
   "cell_type": "code",
   "execution_count": 35,
   "metadata": {},
   "outputs": [
    {
     "name": "stdout",
     "output_type": "stream",
     "text": [
      "Interest calculated for account_no: SA001. Current balance is: 8400.0\n",
      "Fees deducted for account_no: CA001. Current balance is: 450\n",
      "Insufficient balance to deduct fees.\n"
     ]
    }
   ],
   "source": [
    "class BankAccount:\n",
    "    def __init__(self, account_number, balance):\n",
    "        self.account_number = account_number\n",
    "        self.balance = balance\n",
    "\n",
    "class SavingsAccount(BankAccount):\n",
    "    def __init__(self, account_number, balance):\n",
    "        super().__init__(account_number, balance)\n",
    "\n",
    "    def calculate_interest(self, interest_rate):\n",
    "        interest = self.balance * interest_rate\n",
    "        self.balance += interest\n",
    "        print(f'Interest calculated for account_no: {self.account_number}. Current balance is: {self.balance}')\n",
    "\n",
    "class CheckingAccount(BankAccount):\n",
    "    def __init__(self, account_number, balance):\n",
    "        super().__init__(account_number, balance)\n",
    "\n",
    "    def deduct_fees(self, fee):\n",
    "        if fee <= self.balance:\n",
    "            self.balance -= fee\n",
    "            print(f'Fees deducted for account_no: {self.account_number}. Current balance is: {self.balance}')\n",
    "        else:\n",
    "            print('Insufficient balance to deduct fees.')\n",
    "\n",
    "savings_account1 = SavingsAccount('SA001', 8000)\n",
    "savings_account1.calculate_interest(0.05)\n",
    "\n",
    "checking_account1 = CheckingAccount('CA001', 500)\n",
    "checking_account1.deduct_fees(fee=50)\n",
    "checking_account1.deduct_fees(fee=600)        \n",
    "\n",
    "    \n",
    "    \n",
    "        \n",
    "    "
   ]
  }
 ],
 "metadata": {
  "kernelspec": {
   "display_name": "base",
   "language": "python",
   "name": "python3"
  },
  "language_info": {
   "codemirror_mode": {
    "name": "ipython",
    "version": 3
   },
   "file_extension": ".py",
   "mimetype": "text/x-python",
   "name": "python",
   "nbconvert_exporter": "python",
   "pygments_lexer": "ipython3",
   "version": "3.10.9"
  },
  "orig_nbformat": 4
 },
 "nbformat": 4,
 "nbformat_minor": 2
}
