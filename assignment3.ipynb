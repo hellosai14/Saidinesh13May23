{
 "cells": [
  {
   "cell_type": "code",
   "execution_count": null,
   "id": "b9edd543",
   "metadata": {},
   "outputs": [],
   "source": [
    "Why are functions advantageous to have in your programs?\n",
    "\n",
    "'''\n",
    "    1.Reducing duplication of code.\n",
    "    2.Improved reusability of code\n",
    "    3.Write shorter Code, easier to read and update.\n",
    "    4.Bigger problems are broken down into smaller problems,\n",
    "    functions allow you to break down your program into smaller, self-contained modules.\n",
    "    5.Abstraction: Functions allow you to hide the implementation details of a particular\n",
    "    functionality behind a well-defined interface.\n",
    "    6.Testing and Debugging: Functions allow for easier testing and debugging of your code.'''"
   ]
  },
  {
   "cell_type": "code",
   "execution_count": 1,
   "id": "25946b50",
   "metadata": {},
   "outputs": [
    {
     "name": "stdout",
     "output_type": "stream",
     "text": [
      "this is our third week\n"
     ]
    }
   ],
   "source": [
    "'''2. When does the code in a function run: when it's specified or when it's called?\n",
    "    \n",
    "Ans: When its called.\n",
    "\n",
    "for example:'''\n",
    "\n",
    "def whatisourstatus():\n",
    "    print (\"this is our third week\")\n",
    "\n",
    "whatisourstatus()\n",
    "\n"
   ]
  },
  {
   "cell_type": "code",
   "execution_count": null,
   "id": "b5e053eb",
   "metadata": {},
   "outputs": [],
   "source": [
    "# 3. What statement creates a function?\n",
    "\n",
    "In Python, the \"def\" statement is used to create a function. Here's the basic syntax:\n",
    "\n",
    "Example: def function_name(parameters):\n",
    "  "
   ]
  },
  {
   "cell_type": "code",
   "execution_count": 21,
   "id": "cf37b72d",
   "metadata": {},
   "outputs": [
    {
     "name": "stdout",
     "output_type": "stream",
     "text": [
      "Welcome, Sai!\n"
     ]
    }
   ],
   "source": [
    "#4. What is the difference between a function and a function call?\n",
    "\n",
    " #A function is a block of reusable code that performs a specific task or set of operations. \n",
    " #It is defined using the def statement in Python.\n",
    "\n",
    "#Function Call: A function call is the act of invoking or executing a function in a program. \n",
    "    #When you want to use the functionality provided by a function, you make a function call. \n",
    "   # It involves using the function name followed by parentheses () and optionally passing any required arguments or \n",
    "    # parameters inside the parentheses.\n",
    "  #Example  \n",
    "\n",
    "def greet(name):\n",
    "    message = \"Welcome, \" + name + \"!\"\n",
    "    return message\n",
    "\n",
    "# Function call\n",
    "result = greet(\"Sai\")\n",
    "print(result)\n",
    "\n",
    "\n"
   ]
  },
  {
   "cell_type": "code",
   "execution_count": 39,
   "id": "f5f157cd",
   "metadata": {},
   "outputs": [],
   "source": [
    "'''5. How many global scopes are there in a Python program? How many local scopes?\n",
    "\n",
    "There's only one global Python scope per program execution. \n",
    "\n",
    "The number of local scopes in a Python program depends on the number of functions, methods, and class definitions present.\n",
    "Each function, method, or class definition creates its own local scope. Any variables, functions, or classes defined \n",
    "within these constructs are considered part of their respective local scopes and are accessible only within those scopes.\n",
    "\n",
    "'''\n"
   ]
  },
  {
   "cell_type": "code",
   "execution_count": 47,
   "id": "df57f862",
   "metadata": {},
   "outputs": [
    {
     "name": "stdout",
     "output_type": "stream",
     "text": [
      "30\n"
     ]
    }
   ],
   "source": [
    "#6. What happens to variables in a local scope when the function call returns?\n",
    "\n",
    "'''In Python, when a function call returns, the local scope of that function is destroyed, \n",
    "and the variables defined within that scope cease to exist. \n",
    "This means that any variables declared and assigned values  within the function's \n",
    "local scope are no longer accessible outside the function after the function call returns.'''\n",
    "\n",
    "def addition():\n",
    "    a = 10\n",
    "    b = 20\n",
    "    c = a + b\n",
    "    return c\n",
    "\n",
    "result = addition()\n",
    "print(result)\n",
    "\n",
    "#print(a) # Raises NameError: name 'x' is not defined\n",
    "#print(b) # NameError: name 'y' is not defined\n",
    "#print(c) # Raises NameError: name 'z' is not defined"
   ]
  },
  {
   "cell_type": "code",
   "execution_count": 29,
   "id": "0ab81d70",
   "metadata": {},
   "outputs": [
    {
     "name": "stdout",
     "output_type": "stream",
     "text": [
      "9\n",
      "21\n"
     ]
    }
   ],
   "source": [
    "#7. What is the concept of a return value? Is it possible to have a return value in an expression?\n",
    "'''The concept of a return value in programming refers to the value that a function produces or \"returns\" after its execution. \n",
    "When a function is called, it may perform certain operations and compute a result. \n",
    "This result can be explicitly specified using the return statement within the function's code.'''\n",
    "\n",
    "def add(a,b):\n",
    "    return a+b\n",
    "result= add(5,4)\n",
    "print (result)\n",
    "\n",
    "#Is it possible to have a return value in an expression?\n",
    "#yes, a return value can indeed be used within an expression. \n",
    "#example\n",
    "def multiply(a, b):\n",
    "    return a * b\n",
    "\n",
    "result = multiply(3, add(3, 4))\n",
    "print(result) \n",
    "\n"
   ]
  },
  {
   "cell_type": "code",
   "execution_count": 58,
   "id": "b664f917",
   "metadata": {},
   "outputs": [
    {
     "name": "stdout",
     "output_type": "stream",
     "text": [
      "Hi, Sai!\n",
      "None\n"
     ]
    }
   ],
   "source": [
    "# 8. If a function does not have a return statement, what is the return value of a call to that function?\n",
    "\n",
    "'''In Python, every function implicitly returns None if no explicit return statement is encountered during execution. \n",
    "None is a built-in object representing the absence of a value.\n",
    "'''\n",
    "\n",
    "def my_function():\n",
    "    print(\"Hi, Sai!\")\n",
    "\n",
    "result = my_function()\n",
    "print(result)\n",
    "\n",
    "'''When it is called, it prints \"Hi, Sai!\" \n",
    "but does not explicitly return a value. As a result, the variable result receives the value \"None\" when printed.'''\n"
   ]
  },
  {
   "cell_type": "code",
   "execution_count": 1,
   "id": "f0882564",
   "metadata": {},
   "outputs": [
    {
     "name": "stdout",
     "output_type": "stream",
     "text": [
      "python is fantastic\n",
      "Python is awesome\n",
      "----------------------------------\n",
      "python is fantastic\n",
      "Python is fantastic\n"
     ]
    }
   ],
   "source": [
    "#9. How do you make a function variable refer to the global variable?\n",
    "'''To make a function variable refer to a global variable in Python, you need to use the global keyword.'''\n",
    "\n",
    "x = \"awesome\"\n",
    "\n",
    "def myfunc():\n",
    "  x = \"fantastic\"\n",
    "  print (\"python is \" + x)\n",
    "    \n",
    "myfunc()\n",
    "print(\"Python is \" + x)\n",
    "\n",
    "\n",
    "print (\"----------------------------------\")\n",
    "\n",
    "def myfunc():\n",
    "    global x\n",
    "x = \"fantastic\"\n",
    "print (\"python is \" + x)\n",
    "myfunc()\n",
    "\n",
    "print(\"Python is \" + x)"
   ]
  },
  {
   "cell_type": "code",
   "execution_count": 2,
   "id": "e3e30b7f",
   "metadata": {},
   "outputs": [
    {
     "name": "stdout",
     "output_type": "stream",
     "text": [
      "<class 'NoneType'>\n"
     ]
    }
   ],
   "source": [
    "#10. What is the data type of None?\n",
    "\n",
    "#None is considered a special constant in Python and has its own data type called NoneType\n",
    "\n",
    "\n",
    "x = None\n",
    "print(type(x))\n",
    "\n",
    "\n",
    "\n",
    "\n"
   ]
  },
  {
   "cell_type": "code",
   "execution_count": null,
   "id": "f21874cd",
   "metadata": {},
   "outputs": [],
   "source": [
    "#11. What does the sentence import areallyourpetsnamederic do?\n",
    "\n",
    "'''That import statement imports a module named areallyourpetsnamederic. (This isn’t a real Python module)'''"
   ]
  },
  {
   "cell_type": "code",
   "execution_count": null,
   "id": "84bca243",
   "metadata": {},
   "outputs": [],
   "source": [
    "#12.If you had a bacon() feature in a spam module, what would you call it after importing spam?\n",
    "\n",
    "import spam\n",
    "\n",
    "spam.bacon()\n"
   ]
  },
  {
   "cell_type": "code",
   "execution_count": 18,
   "id": "0dc60d56",
   "metadata": {},
   "outputs": [
    {
     "name": "stdout",
     "output_type": "stream",
     "text": [
      "enter a number: 8888\n",
      "Error: someother error occurred\n",
      "0\n"
     ]
    }
   ],
   "source": [
    "#13. What can you do to save a programme from crashing if it encounters an error?\n",
    "\n",
    "\n",
    "#Place the line of code that might cause an error in a try clause.\n",
    "\n",
    "\n",
    "try:\n",
    "    x = int(input(\"enter a number: \"))\n",
    "    y = 100 / x\n",
    "except ValueError:\n",
    "    print(\"Error: there was an error\")\n",
    "except ZeroDivisionError:\n",
    "    print(\"Error: 0 is an invalid number\")\n",
    "else:\n",
    "    print(\"Error: someother error occurred\")\n",
    "finally:\n",
    "    print(int(y))\n",
    "    \n"
   ]
  },
  {
   "cell_type": "code",
   "execution_count": 30,
   "id": "998dfc15",
   "metadata": {},
   "outputs": [
    {
     "name": "stdout",
     "output_type": "stream",
     "text": [
      "The result is: 0.2\n"
     ]
    }
   ],
   "source": [
    "#14. What is the purpose of the try clause? What is the purpose of the except clause?\n",
    "''' With the try block, we are instructing Python to monitor for exceptions. \n",
    "    If an exception occurs within the try block, the execution of the block is immediately halted, \n",
    "    and the control is transferred to the corresponding except block.\n",
    "    This allows you to handle the error condition and continue the program's execution, preventing it from abruptly terminating.\n",
    "    \n",
    "    The code that could potentially cause an error goes in the try clause.\n",
    "    The code that executes if an error happens goes in the except clause.'''\n",
    "try:\n",
    "    a = 10\n",
    "    b = 50\n",
    "    result = a / b\n",
    "    print(\"The result is:\", result)\n",
    "except ZeroDivisionError:\n",
    "    print(\"Error: Division by zero occurred.\")\n",
    "\n",
    "\n"
   ]
  }
 ],
 "metadata": {
  "kernelspec": {
   "display_name": "Python 3 (ipykernel)",
   "language": "python",
   "name": "python3"
  },
  "language_info": {
   "codemirror_mode": {
    "name": "ipython",
    "version": 3
   },
   "file_extension": ".py",
   "mimetype": "text/x-python",
   "name": "python",
   "nbconvert_exporter": "python",
   "pygments_lexer": "ipython3",
   "version": "3.10.9"
  }
 },
 "nbformat": 4,
 "nbformat_minor": 5
}
