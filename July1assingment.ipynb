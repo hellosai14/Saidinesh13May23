{
 "cells": [
  {
   "cell_type": "markdown",
   "metadata": {},
   "source": [
    "# 1. What is the primary goal of Object-Oriented Programming (OOP)?"
   ]
  },
  {
   "cell_type": "markdown",
   "metadata": {},
   "source": [
    "The primary goal of Object-Oriented Programming (OOP) in Python, as well as in other programming languages, is to organize and structure code in a way that promotes modularity, reusability, and maintainability. OOP is a programming paradigm that revolves around the concept of objects, which are instances of classes. The key principles of OOP include encapsulation, inheritance, and polymorphism."
   ]
  },
  {
   "cell_type": "markdown",
   "metadata": {},
   "source": [
    "# 2. What is an object in Python?"
   ]
  },
  {
   "cell_type": "markdown",
   "metadata": {},
   "source": [
    "Objects are instances of classes. They represent specific entities with their own state (attributes) and behavior (methods).\n",
    "When you create an object, you are instantiating a class, which means you are creating a unique instance of that class. Each object has its own state (values of its attributes) and behavior (methods it can perform)."
   ]
  },
  {
   "cell_type": "code",
   "execution_count": null,
   "metadata": {},
   "outputs": [],
   "source": [
    "class Person:\n",
    "    def __init__(self, name, age):\n",
    "        self.name = name\n",
    "        self.age = age\n",
    "    \n",
    "    def greet(self):\n",
    "        print(f\"Hello, my name is {self.name} and I am {self.age} years old.\")\n",
    "\n",
    "# Creating objects (instances) of the Person class\n",
    "person1 = Person(\"Sai\", 25)\n",
    "person2 = Person(\"Dinesh\", 30)"
   ]
  },
  {
   "cell_type": "markdown",
   "metadata": {},
   "source": [
    "# 3. What is a class in Python?"
   ]
  },
  {
   "cell_type": "markdown",
   "metadata": {},
   "source": [
    "Classes serve as blueprints for creating objects. They encapsulate data and functions into a single entity. Classes define the structure and behavior of objects."
   ]
  },
  {
   "cell_type": "code",
   "execution_count": null,
   "metadata": {},
   "outputs": [],
   "source": [
    "# In the example below, the Person class represents a blueprint for creating person objects. \n",
    "\n",
    "# Example\n",
    "\n",
    "class Person: #creating Person class\n",
    "    def __init__(self, name, age):\n",
    "        self.name = name\n",
    "        self.age = age\n",
    "    \n",
    "    def greet(self):\n",
    "        print(f\"Hello, my name is {self.name} and I am {self.age} years old.\")\n",
    "\n",
    "person1 = Person(\"Sai\", 25)\n",
    "person2 = Person(\"Dinesh\", 30) "
   ]
  },
  {
   "cell_type": "markdown",
   "metadata": {},
   "source": [
    "# 4. What are attributes and methods in a class?"
   ]
  },
  {
   "cell_type": "code",
   "execution_count": null,
   "metadata": {},
   "outputs": [],
   "source": [
    "# In a class, attributes and methods are the building blocks that define the behavior and characteristics of objects created from that class. \n",
    "'''\n",
    "Attributes:\n",
    "Attributes are variables that store data associated with an object. \n",
    "They represent the state or characteristics of the object. \n",
    "Each object can have its own set of attribute values, even if they belong to the same class. \n",
    "Attributes can be thought of as the nouns or properties of an object. They can be accessed and modified using dot notation (`object.attribute`)'''\n",
    "\n",
    "#example:\n",
    "\n",
    "class Person:\n",
    "    def __init__(self, name, age):\n",
    "        self.name = name\n",
    "        self.age = age\n",
    "    \n",
    "    def display(self):\n",
    "        print(f\"Hello, my name is {self.name} and I am {self.age} years old.\")\n",
    "\n",
    "person = Person(\"Sai\", 25)\n",
    "person.greet()  # Output: Hello, my name is Sai and I am 25 years old.\n",
    "\n",
    "person = Person(\"Sai\", 25)\n",
    "print(person.name)  # Output: Sai\n",
    "print(person.age)   # Output: 25\n",
    "\n",
    "'''In the above example, `name` and `age` are attributes of the `Person` class.\n",
    "When a `Person` object is created, the `name` and `age` attributes are assigned specific values (`Sai` and `25` in this case). \n",
    "\n",
    "In the above example, `greet` is a method of the `Person` class. \n",
    "It takes no additional arguments apart from the default `self` parameter, which represents the instance of the object itself. \n",
    "The `greet` method accesses the object's `name` and `age` attributes and prints a greeting message.\n",
    "\n",
    "Methods define the behaviors and operations that objects can perform. \n",
    "They encapsulate the logic associated with the class and allow objects to interact with each other and modify their state.\n",
    "\n",
    "In summary, attributes represent the data or state of an object, while methods define the behaviors and actions that objects can perform. \n",
    "Together, attributes and methods form the structure and behavior of objects created from a class. '''"
   ]
  },
  {
   "cell_type": "markdown",
   "metadata": {},
   "source": [
    "# 5. What is the difference between class variables and instance variables in Python?"
   ]
  },
  {
   "cell_type": "markdown",
   "metadata": {},
   "source": [
    "''' In Python, class variables and instance variables are two types of variables that can be defined within a class, but they have different scopes and usage.\n",
    "\n",
    "Class Variables:\n",
    "- Class variables are variables that are shared among all instances (objects) of a class.\n",
    "- They are defined inside the class but outside any instance methods.\n",
    "- Class variables are declared at the class level and are prefixed with the class name.\n",
    "- Class variables are the same for all instances of the class, and when their value is modified, the change is reflected in all instances.\n",
    "- They are typically used to store data that is common to all objects of a class.\n",
    "- Class variables can be accessed using the class name or an instance of the class.\n",
    "\n",
    "Here's an example:\n",
    "\n",
    "```python\n",
    "class Person:\n",
    "    city = \"Mumbai\"  # Class variable\n",
    "    \n",
    "    def __init__(self, name):\n",
    "        self.name = name  # Instance variable\n",
    "\n",
    "person1 = Person(\"Sai\")\n",
    "person2 = Person(\"Dinesh\")\n",
    "\n",
    "print(person1.city)  # Output: Mumbai\n",
    "print(person2.city)  # Output: Mumbai\n",
    "\n",
    "Person.city = \"Chennai\"\n",
    "\n",
    "print(person1.city)  # Output: Chennai\n",
    "print(person2.city)  # Output: Chennai\n",
    "```\n",
    "\n",
    "In the above example, `City` is a class variable defined inside the `Person` class. It is shared among all instances of the class. When the value of `Person.city` is modified, the change is reflected in all instances.\n",
    "\n",
    "Instance Variables:\n",
    "- Instance variables are variables that are specific to each instance (object) of a class.\n",
    "- They are defined inside the class's methods, especially within the `__init__` method.\n",
    "- Instance variables are unique to each object, and their values can vary from one object to another.\n",
    "- They are used to store data that is specific to an object and can have different values for different instances of the class.\n",
    "- Instance variables are accessed using the object (instance) they belong to.\n",
    "\n",
    "Here's an example:\n",
    "\n",
    "```python\n",
    "class Person:\n",
    "    def __init__(self, name):\n",
    "        self.name = name  # Instance variable\n",
    "\n",
    "person1 = Person(\"Mukesh\")\n",
    "person2 = Person(\"Kumar\")\n",
    "\n",
    "print(person1.name)  # Output: Mukesh\n",
    "print(person2.name)  # Output: Kumar\n",
    "```\n",
    "\n",
    "In the above example, `name` is an instance variable specific to each `Person` object. Each object has its own `name` attribute, and their values can be different.\n",
    "\n",
    "In summary, the main differences between class variables and instance variables are:\n",
    "- Class variables are shared among all instances of a class, while instance variables are specific to each instance.\n",
    "- Class variables are declared at the class level, while instance variables are defined within methods, usually within the `__init__` method.\n",
    "- Class variables are accessed using the class name or an instance of the class, while instance variables are accessed using the instance they belong to.'''"
   ]
  },
  {
   "cell_type": "markdown",
   "metadata": {},
   "source": [
    "# 6. What is the purpose of the self parameter in Python class methods?"
   ]
  },
  {
   "cell_type": "markdown",
   "metadata": {},
   "source": [
    "'''In Python class methods, the `self` parameter serves as a reference to the instance (object) of the class itself. It is a convention in Python to name this parameter `self`, although you can technically choose any name for it.\n",
    "\n",
    "The purpose of the `self` parameter is to allow methods to access and manipulate the attributes and other methods of the object it belongs to. It provides a way for methods to refer to the specific instance on which they are being called.\n",
    "\n",
    "When you call an instance method on an object, Python automatically passes the object as the `self` parameter to the method. This enables the method to operate on the specific instance and access its attributes and methods through the `self` reference.\n",
    "\n",
    "Here's an example to illustrate the use of `self` in class methods:\n",
    "\n",
    "```python\n",
    "class Person:\n",
    "    def __init__(self, name):\n",
    "        self.name = name\n",
    "    \n",
    "    def greet(self):\n",
    "        print(f\"Hello, my name is {self.name}.\")\n",
    "    \n",
    "    def change_name(self, new_name):\n",
    "        self.name = new_name\n",
    "\n",
    "person = Person(\"Sai\")\n",
    "person.greet()  # Output: Hello, my name is Sai.\n",
    "\n",
    "person.change_name(\"Dinesh\")\n",
    "person.greet()  # Output: Hello, my name is Dinesh.\n",
    "```\n",
    "\n",
    "In the above example, the `Person` class has three methods: `__init__`, `greet`, and `change_name`. The `self` parameter is present in all of these methods. \n",
    "\n",
    "- In the `__init__` method, `self` refers to the newly created instance of the `Person` class, allowing the assignment of the `name` attribute.\n",
    "- In the `greet` method, `self` allows accessing the `name` attribute of the specific instance and printing a personalized greeting message.\n",
    "- In the `change_name` method, `self` is used to update the `name` attribute of the instance with a new name.\n",
    "\n",
    "By using `self`, class methods can access and modify instance-specific data, ensuring that the methods operate on the correct instance and maintain the integrity of the object's state.'''"
   ]
  },
  {
   "cell_type": "markdown",
   "metadata": {},
   "source": [
    "# 7. For a library management system, you have to design the \"Book\" class with OOP\n",
    "# principles in mind. The “Book” class will have following attributes:\n",
    "a. title: Represents the title of the book.\n",
    "b. author: Represents the author(s) of the book.\n",
    "c. isbn: Represents the ISBN (International Standard Book Number) of the book.\n",
    "d. publication_year: Represents the year of publication of the book.\n",
    "e. available_copies: Represents the number of copies available for checkout.\n",
    "The class will also include the following methods:\n",
    "a. check_out(self): Decrements the available copies by one if there are copies\n",
    "available for checkout.\n",
    "b. return_book(self): Increments the available copies by one when a book is\n",
    "returned.\n",
    "c. display_book_info(self): Displays the information about the book, including its\n",
    "attributes and the number of available copies."
   ]
  },
  {
   "cell_type": "code",
   "execution_count": 21,
   "metadata": {},
   "outputs": [
    {
     "name": "stdout",
     "output_type": "stream",
     "text": [
      "Book checked out successfully: Remaining copies:4\n",
      "Book returned successfully: Available copies:5\n",
      "The deatils of the book are following: Title: Davinci Code, Author: Dan Brown, ISBN: 44515466565, Year: 2005, Available copies 5\n"
     ]
    }
   ],
   "source": [
    "class Book:\n",
    "    def __init__ (self, title, author,isbn, publication_year, available_copies):\n",
    "        self.title=title\n",
    "        self.author=author\n",
    "        self.isbn=isbn\n",
    "        self.publication_year=publication_year\n",
    "        self.available_copies=available_copies\n",
    "    \n",
    "    def check_out(self):\n",
    "        if self.available_copies > 0:\n",
    "            self.available_copies -= 1\n",
    "            print(f\"Book checked out successfully: Remaining copies:{self.available_copies}\")\n",
    "        else:\n",
    "            print(\"No available copies to check out.\")            \n",
    "    def return_book(self):    \n",
    "        self.available_copies+=1\n",
    "        print(f\"Book returned successfully: Available copies:{self.available_copies}\")\n",
    "    def display_book_info(self):\n",
    "        print(f\"The deatils of the book are following: Title: {self.title}, Author: {self.author}, ISBN: {self.isbn}, Year: {self.publication_year}, Available copies {self.available_copies}\")  \n",
    "\n",
    "\n",
    " \n",
    "book1= Book('Davinci Code', 'Dan Brown', 44515466565, 2005, 5)\n",
    "book1.check_out()\n",
    "book1.return_book()\n",
    "book1.display_book_info()\n",
    "        "
   ]
  },
  {
   "cell_type": "markdown",
   "metadata": {},
   "source": [
    "# 8. For a ticket booking system, you have to design the \"Ticket\" class with OOP\n",
    "# principles in mind. The “Ticket” class should have the following attributes:\n",
    "a. ticket_id: Represents the unique identifier for the ticket.\n",
    "b. event_name: Represents the name of the event.\n",
    "c. event_date: Represents the date of the event.\n",
    "d. venue: Represents the venue of the event.\n",
    "e. seat_number: Represents the seat number associated with the ticket.\n",
    "f. price: Represents the price of the ticket.\n",
    "g. is_reserved: Represents the reservation status of the ticket.\n",
    "The class also includes the following methods:\n",
    "a. reserve_ticket(self): Marks the ticket as reserved if it is not already reserved.\n",
    "b. cancel_reservation(self): Cancels the reservation of the ticket if it is already\n",
    "reserved.\n",
    "c. display_ticket_info(self): Displays the information\n"
   ]
  },
  {
   "cell_type": "code",
   "execution_count": null,
   "metadata": {},
   "outputs": [],
   "source": [
    "\n",
    "      \n"
   ]
  },
  {
   "cell_type": "code",
   "execution_count": 77,
   "metadata": {},
   "outputs": [
    {
     "name": "stdout",
     "output_type": "stream",
     "text": [
      "Your ticket is reserved.\n",
      "Ticket Information:\n",
      "Ticket ID: 565\n",
      "Event Name: Vijay_concert\n",
      "Event Date: 12/Dec/23\n",
      "Venue: Chennai\n",
      "Seat Number: f23\n",
      "Price: 5000\n",
      "Reservation Status: Reserved\n"
     ]
    }
   ],
   "source": [
    "class Ticket:\n",
    "    def __init__(self, ticket_id, event_name, event_date, venue, seat_number, price):\n",
    "        self.ticket_id = ticket_id\n",
    "        self.event_name = event_name\n",
    "        self.event_date = event_date\n",
    "        self.venue = venue\n",
    "        self.seat_number = seat_number\n",
    "        self.price = price\n",
    "        self.is_reserved = False\n",
    "\n",
    "    def reserve_ticket(self):        \n",
    "        if self.is_reserved == False:\n",
    "            self.is_reserved = True\n",
    "            print('Your ticket is reserved.')\n",
    "\n",
    "\n",
    "    def cancel_reservation(self):\n",
    "        if self.is_reserved ==True:\n",
    "            self.is_reserved = False\n",
    "            print('Your ticket reservation is canceled.')\n",
    "\n",
    "    def display_ticket_info(self):\n",
    "        print(\"Ticket Information:\")\n",
    "        print(f\"Ticket ID: {self.ticket_id}\")\n",
    "        print(f\"Event Name: {self.event_name}\")\n",
    "        print(f\"Event Date: {self.event_date}\")\n",
    "        print(f\"Venue: {self.venue}\")\n",
    "        print(f\"Seat Number: {self.seat_number}\")\n",
    "        print(f\"Price: {self.price}\")\n",
    "        print(f\"Reservation Status: {'Reserved' if self.is_reserved else 'Not Reserved'}\")\n",
    "\n",
    "\n",
    "\n",
    "ticket1=Ticket(565,'Vijay_concert', '12/Dec/23', 'Chennai', 'f23', 5000)\n",
    "\n",
    "ticket1.reserve_ticket()\n",
    "\n",
    "ticket1.display_ticket_info()"
   ]
  },
  {
   "cell_type": "markdown",
   "metadata": {},
   "source": [
    "# 9. You are creating a shopping cart for an e-commerce website. Using OOP to model\n",
    "# the \"ShoppingCart\" functionality the class should contain following attributes and methods:\n",
    "a. items: Represents the list of items in the shopping cart.\n",
    "The class also includes the following methods:\n",
    "\n",
    "a. add_item(self, item): Adds an item to the shopping cart by appending it to the\n",
    "list of items.\n",
    "b. remove_item(self, item): Removes an item from the shopping cart if it exists in\n",
    "the list.\n",
    "c. view_cart(self): Displays the items currently present in the shopping cart.\n",
    "d. clear_cart(self): Clears all items from the shopping cart by reassigning an\n",
    "empty list to the items attribute."
   ]
  },
  {
   "cell_type": "code",
   "execution_count": 101,
   "metadata": {},
   "outputs": [
    {
     "name": "stdout",
     "output_type": "stream",
     "text": [
      "Item 'pepsi' added to the shopping cart.\n",
      "Item 'pepsi' removed from the shopping cart.\n",
      "Item 'sugar' added to the shopping cart.\n",
      "Item 'salt' added to the shopping cart.\n",
      "Shopping Cart:\n",
      "sugar\n",
      "salt\n",
      "Shopping cart cleared.\n",
      "The shopping cart is empty.\n"
     ]
    }
   ],
   "source": [
    "class ShoppingCart:\n",
    "    def __init__(self):\n",
    "        self.items = []\n",
    "\n",
    "    def add_item(self, item):\n",
    "        self.items.append(item)\n",
    "        print(f\"Item '{item}' added to the shopping cart.\")\n",
    "\n",
    "    def remove_item(self, item):\n",
    "        if item in self.items:\n",
    "            self.items.remove(item)\n",
    "            print(f\"Item '{item}' removed from the shopping cart.\")\n",
    "        else:\n",
    "            print(f\"Item '{item}' is not in the shopping cart.\")\n",
    "\n",
    "    def view_cart(self):\n",
    "        if self.items!=[]:\n",
    "            print(\"Shopping Cart:\")\n",
    "            for item in self.items:\n",
    "                print(item)\n",
    "        else:\n",
    "            print(\"The shopping cart is empty.\")\n",
    "\n",
    "    def clear_cart(self):\n",
    "        self.items = []\n",
    "        print(\"Shopping cart cleared.\")\n",
    "        \n",
    "cart1=ShoppingCart()\n",
    "cart1.add_item('pepsi')\n",
    "cart1.remove_item('pepsi')\n",
    "cart1.add_item('sugar')\n",
    "cart1.add_item('salt')\n",
    "cart1.view_cart()\n",
    "cart1.clear_cart()\n",
    "cart1.view_cart()\n"
   ]
  },
  {
   "cell_type": "markdown",
   "metadata": {},
   "source": [
    "# 10. Imagine a school management system. You have to design the \"Student\" class using\n",
    "# OOP concepts.The “Student” class has the following attributes:\n",
    "a. name: Represents the name of the student.\n",
    "b. age: Represents the age of the student.\n",
    "c. grade: Represents the grade or class of the student.\n",
    "d. student_id: Represents the unique identifier for the student.\n",
    "e. attendance: Represents the attendance record of the student.\n",
    "The class should also include the following methods:\n",
    "a. update_attendance(self, date, status): Updates the attendance record of the\n",
    "student for a given date with the provided status (e.g., present or absent).\n",
    "b. get_attendance(self): Returns the attendance record of the student.\n",
    "c. get_average_attendance(self): Calculates and returns the average\n",
    "attendance percentage of the student based on their attendance record."
   ]
  },
  {
   "cell_type": "code",
   "execution_count": 17,
   "metadata": {},
   "outputs": [
    {
     "data": {
      "text/plain": [
       "{'12/05/2023': 'present', '13/05/2023': 'absent'}"
      ]
     },
     "execution_count": 17,
     "metadata": {},
     "output_type": "execute_result"
    }
   ],
   "source": [
    "class Student:\n",
    "    def __init__(self, name, age, grade, student_id):\n",
    "        self.name = name\n",
    "        self.age = age\n",
    "        self.grade = grade\n",
    "        self.student_id = student_id\n",
    "        self.attendance = {}\n",
    "\n",
    "    def update_attendance(self, date, status):\n",
    "        self.attendance[date] = status\n",
    "\n",
    "    def get_attendance(self):\n",
    "        return self.attendance\n",
    "\n",
    "    def get_average_attendance(self):\n",
    "        total_days = len(self.attendance)\n",
    "        present_days = sum(1 for status in self.attendance.values() if status == 'present')\n",
    "        average_attendance = (present_days / total_days) * 100 if total_days > 0 else 0\n",
    "        return average_attendance\n",
    "    \n",
    "stu1=Student('sai',25,'xii',56565)\n",
    "stu1.update_attendance('12/05/2023', 'present')\n",
    "stu1.update_attendance('13/05/2023', 'absent')\n",
    "\n",
    "stu1.get_attendance()\n",
    "\n",
    "\n"
   ]
  }
 ],
 "metadata": {
  "kernelspec": {
   "display_name": "base",
   "language": "python",
   "name": "python3"
  },
  "language_info": {
   "codemirror_mode": {
    "name": "ipython",
    "version": 3
   },
   "file_extension": ".py",
   "mimetype": "text/x-python",
   "name": "python",
   "nbconvert_exporter": "python",
   "pygments_lexer": "ipython3",
   "version": "3.10.9"
  },
  "orig_nbformat": 4
 },
 "nbformat": 4,
 "nbformat_minor": 2
}
