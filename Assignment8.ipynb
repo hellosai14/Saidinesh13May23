{
 "cells": [
  {
   "attachments": {},
   "cell_type": "markdown",
   "metadata": {},
   "source": [
    "1.In Python, what is the difference between a built-in function and a user-defined function? Provide an\n",
    "example of each.\n",
    "\n",
    "Explantion: the main difference between built-in functions and user-defined functions is that built-in functions are\n",
    " provided by Python's standard library and are readily available for use, while user-defined functions are \n",
    " created by the users to fulfill specific requirements and need to be defined before they can be used.\n",
    "\n",
    " below is an example."
   ]
  },
  {
   "cell_type": "code",
   "execution_count": 3,
   "metadata": {},
   "outputs": [
    {
     "name": "stdout",
     "output_type": "stream",
     "text": [
      "21\n"
     ]
    },
    {
     "data": {
      "text/plain": [
       "30"
      ]
     },
     "execution_count": 3,
     "metadata": {},
     "output_type": "execute_result"
    }
   ],
   "source": [
    "total= sum([2,5,6,8]) # Sum is a  bulitin function which returns the sum of all elements in a sequence.\n",
    "print(total)\n",
    "\n",
    "def my_function(a,b): # my_fuction is a custom function created using 'def'\n",
    "    return a*b\n",
    "my_function(5,6)\n",
    "\n"
   ]
  },
  {
   "attachments": {},
   "cell_type": "markdown",
   "metadata": {},
   "source": [
    "2. How can you pass arguments to a function in Python? Explain the difference between positional\n",
    "arguments and keyword arguments."
   ]
  },
  {
   "cell_type": "code",
   "execution_count": 4,
   "metadata": {},
   "outputs": [
    {
     "name": "stdout",
     "output_type": "stream",
     "text": [
      "20\n"
     ]
    }
   ],
   "source": [
    "# Positional arguments are passed to a function based on their position or order.\n",
    "\n",
    "def my_fuction(a, b): #the function my_function takes two positional arguments a and b.\n",
    "    return a + b #When calling the function my_fuction(5, 15), the value 5 is assigned to a, and 15 is assigned to b. \n",
    "\n",
    "result = my_fuction(5, 15)\n",
    "print(result) "
   ]
  },
  {
   "cell_type": "code",
   "execution_count": 12,
   "metadata": {},
   "outputs": [
    {
     "name": "stdout",
     "output_type": "stream",
     "text": [
      "Hello Sai, how are you?\n"
     ]
    }
   ],
   "source": [
    "#Keyword Arguments:\n",
    "\n",
    "\n",
    "def welcome(message, name): #Keyword arguments are passed to a function using the argument name and value. \n",
    "    print(f\"Hello {name}, {message}\")\n",
    "\n",
    "welcome(message=\"how are you?\", name= \"Sai\") #Instead of relying on the position, you explicitly mention the parameter name followed by its corresponding value.\n",
    "\n"
   ]
  },
  {
   "attachments": {},
   "cell_type": "markdown",
   "metadata": {},
   "source": [
    "3. What is the purpose of the return statement in a function? Can a function have multiple return\n",
    "statements? Explain with an example."
   ]
  },
  {
   "cell_type": "code",
   "execution_count": 15,
   "metadata": {},
   "outputs": [
    {
     "name": "stdout",
     "output_type": "stream",
     "text": [
      "You have failed the exam\n"
     ]
    }
   ],
   "source": [
    "def my_score(score): # the purpose of a return statement in a function is to specify the value that the function should \"return\" or provide as its output when it is called\n",
    "    if score >= 90:\n",
    "        return \"Your Grade is A\"\n",
    "    elif score >= 80:\n",
    "        return \"Your Grade is B\"\n",
    "    elif score >= 70:\n",
    "        return \"Your Grade is C\" # a function can have multiple return statements. The function will exit and return the value specified in the first encountered return statement.\n",
    "    elif score >= 50:\n",
    "        return \"Your Grade is D\"\n",
    "    else:\n",
    "        return \"You have failed the exam\"\n",
    "\n",
    "print(my_score(49))\n",
    " \n"
   ]
  },
  {
   "attachments": {},
   "cell_type": "markdown",
   "metadata": {},
   "source": [
    "4. What are lambda functions in Python? How are they different from regular functions? Provide an\n",
    "example where a lambda function can be useful.\n"
   ]
  },
  {
   "attachments": {},
   "cell_type": "markdown",
   "metadata": {},
   "source": [
    "lambda functions are anonymous functions that can be defined without a name.\n",
    "Lambda functions are defined using the lambda keyword, whereas regular functions are defined using the def keyword.\n",
    "Lambda functions are limited to a single expression, while regular functions can have multiple statements and a more complex structure."
   ]
  },
  {
   "cell_type": "code",
   "execution_count": 20,
   "metadata": {},
   "outputs": [
    {
     "name": "stdout",
     "output_type": "stream",
     "text": [
      "15\n"
     ]
    }
   ],
   "source": [
    "add= lambda x,y: x+y #lambda arguments: expression\n",
    "print(add(5,10)) #Lambda functions are typically used when you need a small, one-line function without the need for a formal function definition."
   ]
  },
  {
   "attachments": {},
   "cell_type": "markdown",
   "metadata": {},
   "source": [
    "5. How does the concept of \"scope\" apply to functions in Python? Explain the difference between local\n",
    "scope and global scope."
   ]
  },
  {
   "attachments": {},
   "cell_type": "markdown",
   "metadata": {},
   "source": [
    "Local Scope:\n",
    "\n",
    "    Local scope refers to variables that are defined within a specific function or block of code. These variables can only be accessed from within that function or block."
   ]
  },
  {
   "cell_type": "code",
   "execution_count": 23,
   "metadata": {},
   "outputs": [
    {
     "name": "stdout",
     "output_type": "stream",
     "text": [
      "10\n"
     ]
    }
   ],
   "source": [
    "def my_function():\n",
    "    x = 10   # Local variable\n",
    "    print(x)  # Accessible within the function\n",
    "\n",
    "my_function()\n",
    "print(x) # Error: x is not defined outside the function\n"
   ]
  },
  {
   "attachments": {},
   "cell_type": "markdown",
   "metadata": {},
   "source": [
    "Global Scope:\n",
    "\n",
    "    Global scope refers to variables that are defined outside of any function or block, making them accessible throughout the entire program."
   ]
  },
  {
   "cell_type": "code",
   "execution_count": 26,
   "metadata": {},
   "outputs": [
    {
     "name": "stdout",
     "output_type": "stream",
     "text": [
      "15\n",
      "10\n"
     ]
    }
   ],
   "source": [
    "x = 10  # Global variable\n",
    "\n",
    "def my_function():  #  Python assumes it is a local variable unless explicitly declared as global using the global keyword.\n",
    "    x = 15        \n",
    "    print(x)  # Accessible within the function\n",
    "\n",
    "my_function()\n",
    "print(x)  # Outputs 10, as the global variable, can be called outside the fuction.\n"
   ]
  },
  {
   "attachments": {},
   "cell_type": "markdown",
   "metadata": {},
   "source": [
    "6. How can you use the \"return\" statement in a Python function to return multiple values?"
   ]
  },
  {
   "cell_type": "code",
   "execution_count": 146,
   "metadata": {},
   "outputs": [
    {
     "data": {
      "text/plain": [
       "[10, 20]"
      ]
     },
     "execution_count": 146,
     "metadata": {},
     "output_type": "execute_result"
    }
   ],
   "source": [
    "def multiple_values():\n",
    "  first_value = 10\n",
    "  second_value = 20\n",
    "  return [first_value, second_value] # You can return multiple values by simply separating them with commas in the return statement\n",
    "\n",
    "multiple_return_values()"
   ]
  },
  {
   "attachments": {},
   "cell_type": "markdown",
   "metadata": {},
   "source": [
    "7. What is the difference between the \"pass by value\" and \"pass by reference\" concepts when it\n",
    "comes to function arguments in Python?"
   ]
  },
  {
   "cell_type": "code",
   "execution_count": 65,
   "metadata": {},
   "outputs": [
    {
     "name": "stdout",
     "output_type": "stream",
     "text": [
      "10\n",
      "20\n"
     ]
    }
   ],
   "source": [
    "#Pass by value\n",
    "\n",
    "#In pass by value, the value of the variable is copied into the function. Any changes made to the variable inside the function do not affect the value of the variable outside the function.\n",
    "\n",
    "def hello(x):\n",
    "    x=10\n",
    "    print(x)\n",
    "\n",
    "x=20\n",
    "hello(x)\n",
    "print(x)\n",
    "\n"
   ]
  },
  {
   "cell_type": "code",
   "execution_count": 68,
   "metadata": {},
   "outputs": [
    {
     "name": "stdout",
     "output_type": "stream",
     "text": [
      "[10, 2, 3]\n",
      "[10, 2, 3]\n"
     ]
    }
   ],
   "source": [
    "#def pass_by_reference(x): #In pass by reference, the reference to the variable is passed into the function. Any changes made to the variable inside the function affect the value of the variable outside the function.\n",
    "a=[1,2,3]\n",
    "def hello(x):\n",
    "  a[0]=10\n",
    "  print(x)\n",
    "\n",
    "hello(a)\n",
    "print(a)\n",
    "\n",
    "\n"
   ]
  },
  {
   "attachments": {},
   "cell_type": "markdown",
   "metadata": {},
   "source": [
    "8. Create a function that can intake integer or decimal value and do following operations:\n",
    "a. Logarithmic function (log x)\n",
    "b. Exponential function (exp(x))\n",
    "c. Power function with base 2 (2x)\n",
    "d. Square root"
   ]
  },
  {
   "cell_type": "code",
   "execution_count": 147,
   "metadata": {},
   "outputs": [
    {
     "name": "stdout",
     "output_type": "stream",
     "text": [
      "Log value of 2.5 is 0.9162907318741551\n",
      "Exp value of 2.5 is 12.182493960703473\n",
      "Power value of 2.5 is 55.90169943749474\n",
      "Square root of 2.5 is 1.5811388300841898\n"
     ]
    }
   ],
   "source": [
    "import math\n",
    "\n",
    "def my_calculator(x):\n",
    "    log_value = math.log(x)\n",
    "    exp_value = math.exp(x)\n",
    "    pow_value = pow(5, x)\n",
    "    sq_root = math.sqrt(x)\n",
    "    \n",
    "    return log_value, exp_value, pow_value, sq_root\n",
    "    \n",
    "x=2.5\n",
    "result = my_calculator(x)\n",
    "print(f'Log value of {x} is {result[0]}\\nExp value of {x} is {result[1]}\\nPower value of {x} is {result[2]}\\nSquare root of {x} is {result[3]}')\n"
   ]
  },
  {
   "attachments": {},
   "cell_type": "markdown",
   "metadata": {},
   "source": [
    "9. Create a function that takes a full name as an argument and returns first name and last name."
   ]
  },
  {
   "cell_type": "code",
   "execution_count": 145,
   "metadata": {},
   "outputs": [
    {
     "name": "stdout",
     "output_type": "stream",
     "text": [
      "First Name: Sai\n",
      "Last Name: Dinesh\n"
     ]
    }
   ],
   "source": [
    "def get_first_last_name(full_name):\n",
    "    # Split the full name into individual parts\n",
    "    name_parts = full_name.split()\n",
    "\n",
    "    first_name = name_parts[0]\n",
    "    last_name = name_parts[-1]\n",
    "\n",
    "    return first_name, last_name\n",
    "\n",
    "full_name = \"Sai Dinesh\"\n",
    "first_name, last_name = get_first_last_name(full_name)\n",
    "print(\"First Name:\", first_name)\n",
    "print(\"Last Name:\", last_name)\n",
    "\n"
   ]
  }
 ],
 "metadata": {
  "kernelspec": {
   "display_name": "base",
   "language": "python",
   "name": "python3"
  },
  "language_info": {
   "codemirror_mode": {
    "name": "ipython",
    "version": 3
   },
   "file_extension": ".py",
   "mimetype": "text/x-python",
   "name": "python",
   "nbconvert_exporter": "python",
   "pygments_lexer": "ipython3",
   "version": "3.10.9"
  },
  "orig_nbformat": 4
 },
 "nbformat": 4,
 "nbformat_minor": 2
}
